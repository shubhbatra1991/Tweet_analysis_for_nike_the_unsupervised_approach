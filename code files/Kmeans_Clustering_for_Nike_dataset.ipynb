{
  "cells": [
    {
      "cell_type": "code",
      "source": [
        "import numpy as np\n",
        "import pandas as pd\n",
        "import matplotlib.pyplot as plt\n",
        "import seaborn as sns\n",
        "import re\n",
        "\n",
        "from sklearn.cluster import KMeans\n",
        "from sklearn.cluster import AgglomerativeClustering"
      ],
      "metadata": {
        "id": "uhYrH4NB42cC",
        "application/vnd.databricks.v1+cell": {
          "title": "",
          "showTitle": false,
          "inputWidgets": {},
          "nuid": "33cccfc8-2a3d-4ac0-a61b-31dbd51af0c4"
        }
      },
      "outputs": [],
      "execution_count": null
    },
    {
      "cell_type": "code",
      "source": [
        "nike  = pd.read_csv(\"https://s3.amazonaws.com/peyck.es/BDA_Project/oct18-oct19.csv\")\n",
        "nike.head()"
      ],
      "metadata": {
        "application/vnd.databricks.v1+cell": {
          "title": "",
          "showTitle": false,
          "inputWidgets": {},
          "nuid": "fbb88ab1-062e-4e82-b4e6-ef0263096187"
        },
        "colab": {
          "base_uri": "https://localhost:8080/",
          "height": 441
        },
        "id": "ix_f2tZTTcL-",
        "outputId": "c8b4b9dc-f8d1-43ca-e850-2eae84b59b9c"
      },
      "outputs": [
        {
          "output_type": "execute_result",
          "data": {
            "text/html": [
              "\n",
              "  <div id=\"df-82126ab8-1c0a-4a48-bbf9-4cbe0c9eab50\">\n",
              "    <div class=\"colab-df-container\">\n",
              "      <div>\n",
              "<style scoped>\n",
              "    .dataframe tbody tr th:only-of-type {\n",
              "        vertical-align: middle;\n",
              "    }\n",
              "\n",
              "    .dataframe tbody tr th {\n",
              "        vertical-align: top;\n",
              "    }\n",
              "\n",
              "    .dataframe thead th {\n",
              "        text-align: right;\n",
              "    }\n",
              "</style>\n",
              "<table border=\"1\" class=\"dataframe\">\n",
              "  <thead>\n",
              "    <tr style=\"text-align: right;\">\n",
              "      <th></th>\n",
              "      <th>date</th>\n",
              "      <th>username</th>\n",
              "      <th>to</th>\n",
              "      <th>replies</th>\n",
              "      <th>retweets</th>\n",
              "      <th>favorites</th>\n",
              "      <th>text</th>\n",
              "      <th>geo</th>\n",
              "      <th>mentions</th>\n",
              "      <th>hashtags</th>\n",
              "      <th>id</th>\n",
              "      <th>permalink</th>\n",
              "    </tr>\n",
              "  </thead>\n",
              "  <tbody>\n",
              "    <tr>\n",
              "      <th>0</th>\n",
              "      <td>4/1/19 0:00</td>\n",
              "      <td>SneakerShouts</td>\n",
              "      <td>NaN</td>\n",
              "      <td>0</td>\n",
              "      <td>2</td>\n",
              "      <td>24</td>\n",
              "      <td>STEAL: Over 50% OFF + free shipping on the Nik...</td>\n",
              "      <td>NaN</td>\n",
              "      <td>NaN</td>\n",
              "      <td>NaN</td>\n",
              "      <td>1.110000e+18</td>\n",
              "      <td>https://twitter.com/SneakerShouts/status/11125...</td>\n",
              "    </tr>\n",
              "    <tr>\n",
              "      <th>1</th>\n",
              "      <td>4/1/19 0:00</td>\n",
              "      <td>Ebay_Birmingham</td>\n",
              "      <td>NaN</td>\n",
              "      <td>0</td>\n",
              "      <td>0</td>\n",
              "      <td>0</td>\n",
              "      <td>Check out #Nike Dry Fit Shorts Women's Tempo N...</td>\n",
              "      <td>NaN</td>\n",
              "      <td>@eBay</td>\n",
              "      <td>#Nike #Nike #ebay #poshmark #mercari</td>\n",
              "      <td>1.110000e+18</td>\n",
              "      <td>https://twitter.com/Ebay_Birmingham/status/111...</td>\n",
              "    </tr>\n",
              "    <tr>\n",
              "      <th>2</th>\n",
              "      <td>4/1/19 0:00</td>\n",
              "      <td>SneakerNews</td>\n",
              "      <td>NaN</td>\n",
              "      <td>2</td>\n",
              "      <td>15</td>\n",
              "      <td>102</td>\n",
              "      <td>The Nike Air Max 97 \"Seoul\" will release via N...</td>\n",
              "      <td>NaN</td>\n",
              "      <td>NaN</td>\n",
              "      <td>NaN</td>\n",
              "      <td>1.110000e+18</td>\n",
              "      <td>https://twitter.com/SneakerNews/status/1112504...</td>\n",
              "    </tr>\n",
              "    <tr>\n",
              "      <th>3</th>\n",
              "      <td>4/1/19 0:00</td>\n",
              "      <td>titoloshop</td>\n",
              "      <td>NaN</td>\n",
              "      <td>0</td>\n",
              "      <td>0</td>\n",
              "      <td>0</td>\n",
              "      <td>Nike Air Vapormax Flyknit 3 - Atmosphere Grey/...</td>\n",
              "      <td>NaN</td>\n",
              "      <td>NaN</td>\n",
              "      <td>NaN</td>\n",
              "      <td>1.110000e+18</td>\n",
              "      <td>https://twitter.com/titoloshop/status/11125048...</td>\n",
              "    </tr>\n",
              "    <tr>\n",
              "      <th>4</th>\n",
              "      <td>4/1/19 0:00</td>\n",
              "      <td>Taniabanks24</td>\n",
              "      <td>BornLiveDieFree</td>\n",
              "      <td>2</td>\n",
              "      <td>0</td>\n",
              "      <td>0</td>\n",
              "      <td>@MichaelAvenatti He ain‚Äôt dumb he is not sho...</td>\n",
              "      <td>NaN</td>\n",
              "      <td>@MichaelAvenatti</td>\n",
              "      <td>NaN</td>\n",
              "      <td>1.110000e+18</td>\n",
              "      <td>https://twitter.com/Taniabanks24/status/111250...</td>\n",
              "    </tr>\n",
              "  </tbody>\n",
              "</table>\n",
              "</div>\n",
              "      <button class=\"colab-df-convert\" onclick=\"convertToInteractive('df-82126ab8-1c0a-4a48-bbf9-4cbe0c9eab50')\"\n",
              "              title=\"Convert this dataframe to an interactive table.\"\n",
              "              style=\"display:none;\">\n",
              "        \n",
              "  <svg xmlns=\"http://www.w3.org/2000/svg\" height=\"24px\"viewBox=\"0 0 24 24\"\n",
              "       width=\"24px\">\n",
              "    <path d=\"M0 0h24v24H0V0z\" fill=\"none\"/>\n",
              "    <path d=\"M18.56 5.44l.94 2.06.94-2.06 2.06-.94-2.06-.94-.94-2.06-.94 2.06-2.06.94zm-11 1L8.5 8.5l.94-2.06 2.06-.94-2.06-.94L8.5 2.5l-.94 2.06-2.06.94zm10 10l.94 2.06.94-2.06 2.06-.94-2.06-.94-.94-2.06-.94 2.06-2.06.94z\"/><path d=\"M17.41 7.96l-1.37-1.37c-.4-.4-.92-.59-1.43-.59-.52 0-1.04.2-1.43.59L10.3 9.45l-7.72 7.72c-.78.78-.78 2.05 0 2.83L4 21.41c.39.39.9.59 1.41.59.51 0 1.02-.2 1.41-.59l7.78-7.78 2.81-2.81c.8-.78.8-2.07 0-2.86zM5.41 20L4 18.59l7.72-7.72 1.47 1.35L5.41 20z\"/>\n",
              "  </svg>\n",
              "      </button>\n",
              "      \n",
              "  <style>\n",
              "    .colab-df-container {\n",
              "      display:flex;\n",
              "      flex-wrap:wrap;\n",
              "      gap: 12px;\n",
              "    }\n",
              "\n",
              "    .colab-df-convert {\n",
              "      background-color: #E8F0FE;\n",
              "      border: none;\n",
              "      border-radius: 50%;\n",
              "      cursor: pointer;\n",
              "      display: none;\n",
              "      fill: #1967D2;\n",
              "      height: 32px;\n",
              "      padding: 0 0 0 0;\n",
              "      width: 32px;\n",
              "    }\n",
              "\n",
              "    .colab-df-convert:hover {\n",
              "      background-color: #E2EBFA;\n",
              "      box-shadow: 0px 1px 2px rgba(60, 64, 67, 0.3), 0px 1px 3px 1px rgba(60, 64, 67, 0.15);\n",
              "      fill: #174EA6;\n",
              "    }\n",
              "\n",
              "    [theme=dark] .colab-df-convert {\n",
              "      background-color: #3B4455;\n",
              "      fill: #D2E3FC;\n",
              "    }\n",
              "\n",
              "    [theme=dark] .colab-df-convert:hover {\n",
              "      background-color: #434B5C;\n",
              "      box-shadow: 0px 1px 3px 1px rgba(0, 0, 0, 0.15);\n",
              "      filter: drop-shadow(0px 1px 2px rgba(0, 0, 0, 0.3));\n",
              "      fill: #FFFFFF;\n",
              "    }\n",
              "  </style>\n",
              "\n",
              "      <script>\n",
              "        const buttonEl =\n",
              "          document.querySelector('#df-82126ab8-1c0a-4a48-bbf9-4cbe0c9eab50 button.colab-df-convert');\n",
              "        buttonEl.style.display =\n",
              "          google.colab.kernel.accessAllowed ? 'block' : 'none';\n",
              "\n",
              "        async function convertToInteractive(key) {\n",
              "          const element = document.querySelector('#df-82126ab8-1c0a-4a48-bbf9-4cbe0c9eab50');\n",
              "          const dataTable =\n",
              "            await google.colab.kernel.invokeFunction('convertToInteractive',\n",
              "                                                     [key], {});\n",
              "          if (!dataTable) return;\n",
              "\n",
              "          const docLinkHtml = 'Like what you see? Visit the ' +\n",
              "            '<a target=\"_blank\" href=https://colab.research.google.com/notebooks/data_table.ipynb>data table notebook</a>'\n",
              "            + ' to learn more about interactive tables.';\n",
              "          element.innerHTML = '';\n",
              "          dataTable['output_type'] = 'display_data';\n",
              "          await google.colab.output.renderOutput(dataTable, element);\n",
              "          const docLink = document.createElement('div');\n",
              "          docLink.innerHTML = docLinkHtml;\n",
              "          element.appendChild(docLink);\n",
              "        }\n",
              "      </script>\n",
              "    </div>\n",
              "  </div>\n",
              "  "
            ],
            "text/plain": [
              "          date  ...                                          permalink\n",
              "0  4/1/19 0:00  ...  https://twitter.com/SneakerShouts/status/11125...\n",
              "1  4/1/19 0:00  ...  https://twitter.com/Ebay_Birmingham/status/111...\n",
              "2  4/1/19 0:00  ...  https://twitter.com/SneakerNews/status/1112504...\n",
              "3  4/1/19 0:00  ...  https://twitter.com/titoloshop/status/11125048...\n",
              "4  4/1/19 0:00  ...  https://twitter.com/Taniabanks24/status/111250...\n",
              "\n",
              "[5 rows x 12 columns]"
            ]
          },
          "metadata": {},
          "execution_count": 2
        }
      ],
      "execution_count": null
    },
    {
      "cell_type": "code",
      "source": [
        "print('Dataset size:',nike.shape)\n",
        "print('Columns are:',nike.columns)"
      ],
      "metadata": {
        "application/vnd.databricks.v1+cell": {
          "title": "",
          "showTitle": false,
          "inputWidgets": {},
          "nuid": "e1651b22-2df2-4c3d-b6d5-77a13f3fdb80"
        },
        "colab": {
          "base_uri": "https://localhost:8080/"
        },
        "id": "8706uehfTcMA",
        "outputId": "05d77b7f-aeb5-4926-c5fd-bb003e502892"
      },
      "outputs": [
        {
          "output_type": "stream",
          "name": "stdout",
          "text": [
            "Dataset size: (4430893, 12)\n",
            "Columns are: Index(['date', 'username', 'to', 'replies', 'retweets', 'favorites', 'text',\n",
            "       'geo', 'mentions', 'hashtags', 'id', 'permalink'],\n",
            "      dtype='object')\n"
          ]
        }
      ],
      "execution_count": null
    },
    {
      "cell_type": "code",
      "source": [
        "nike.info()"
      ],
      "metadata": {
        "application/vnd.databricks.v1+cell": {
          "title": "",
          "showTitle": false,
          "inputWidgets": {},
          "nuid": "108865a3-7c95-41da-9ca1-542771dd27eb"
        },
        "colab": {
          "base_uri": "https://localhost:8080/"
        },
        "id": "DHbvlJoFTcMB",
        "outputId": "50f6864a-d65d-45f9-cc7f-2c58d792be9c"
      },
      "outputs": [
        {
          "output_type": "stream",
          "name": "stdout",
          "text": [
            "<class 'pandas.core.frame.DataFrame'>\n",
            "RangeIndex: 4430893 entries, 0 to 4430892\n",
            "Data columns (total 12 columns):\n",
            " #   Column     Dtype  \n",
            "---  ------     -----  \n",
            " 0   date       object \n",
            " 1   username   object \n",
            " 2   to         object \n",
            " 3   replies    int64  \n",
            " 4   retweets   int64  \n",
            " 5   favorites  int64  \n",
            " 6   text       object \n",
            " 7   geo        float64\n",
            " 8   mentions   object \n",
            " 9   hashtags   object \n",
            " 10  id         float64\n",
            " 11  permalink  object \n",
            "dtypes: float64(2), int64(3), object(7)\n",
            "memory usage: 405.7+ MB\n"
          ]
        }
      ],
      "execution_count": null
    },
    {
      "cell_type": "code",
      "source": [
        "nike.columns"
      ],
      "metadata": {
        "application/vnd.databricks.v1+cell": {
          "title": "",
          "showTitle": false,
          "inputWidgets": {},
          "nuid": "32cde3f3-3996-4772-a611-795f0be762e1"
        },
        "colab": {
          "base_uri": "https://localhost:8080/"
        },
        "id": "-goixCYKTcMC",
        "outputId": "4b0ee25d-ed67-4513-8d51-529af6b809eb"
      },
      "outputs": [
        {
          "output_type": "execute_result",
          "data": {
            "text/plain": [
              "Index(['date', 'username', 'to', 'replies', 'retweets', 'favorites', 'text',\n",
              "       'geo', 'mentions', 'hashtags', 'id', 'permalink'],\n",
              "      dtype='object')"
            ]
          },
          "metadata": {},
          "execution_count": 5
        }
      ],
      "execution_count": null
    },
    {
      "cell_type": "code",
      "source": [
        "nike.isnull().sum()"
      ],
      "metadata": {
        "application/vnd.databricks.v1+cell": {
          "title": "",
          "showTitle": false,
          "inputWidgets": {},
          "nuid": "a07ce540-0574-4091-bba4-06f5e7b13c61"
        },
        "colab": {
          "base_uri": "https://localhost:8080/"
        },
        "id": "-lB3d9zuTcMC",
        "outputId": "a4c60ba6-c68c-4e51-fad4-5e1b35fcb7c8"
      },
      "outputs": [
        {
          "output_type": "execute_result",
          "data": {
            "text/plain": [
              "date               0\n",
              "username           1\n",
              "to           2984178\n",
              "replies            0\n",
              "retweets           0\n",
              "favorites          0\n",
              "text               0\n",
              "geo          4430893\n",
              "mentions     3383080\n",
              "hashtags     3299590\n",
              "id                 0\n",
              "permalink          0\n",
              "dtype: int64"
            ]
          },
          "metadata": {},
          "execution_count": 6
        }
      ],
      "execution_count": null
    },
    {
      "cell_type": "code",
      "source": [
        "# statistical information about the dataset\n",
        "nike.describe()"
      ],
      "metadata": {
        "application/vnd.databricks.v1+cell": {
          "title": "",
          "showTitle": false,
          "inputWidgets": {},
          "nuid": "b29c11bd-8cb1-4e78-9ea1-c33b27d4d17e"
        },
        "colab": {
          "base_uri": "https://localhost:8080/",
          "height": 300
        },
        "id": "Mpbske7NTcMD",
        "outputId": "5e26adf9-7aa0-4eeb-c0d3-3117fbc6b920"
      },
      "outputs": [
        {
          "output_type": "execute_result",
          "data": {
            "text/html": [
              "\n",
              "  <div id=\"df-13fb0732-5a09-400e-bc0e-01e20b39276f\">\n",
              "    <div class=\"colab-df-container\">\n",
              "      <div>\n",
              "<style scoped>\n",
              "    .dataframe tbody tr th:only-of-type {\n",
              "        vertical-align: middle;\n",
              "    }\n",
              "\n",
              "    .dataframe tbody tr th {\n",
              "        vertical-align: top;\n",
              "    }\n",
              "\n",
              "    .dataframe thead th {\n",
              "        text-align: right;\n",
              "    }\n",
              "</style>\n",
              "<table border=\"1\" class=\"dataframe\">\n",
              "  <thead>\n",
              "    <tr style=\"text-align: right;\">\n",
              "      <th></th>\n",
              "      <th>replies</th>\n",
              "      <th>retweets</th>\n",
              "      <th>favorites</th>\n",
              "      <th>geo</th>\n",
              "      <th>id</th>\n",
              "    </tr>\n",
              "  </thead>\n",
              "  <tbody>\n",
              "    <tr>\n",
              "      <th>count</th>\n",
              "      <td>4.430893e+06</td>\n",
              "      <td>4.430893e+06</td>\n",
              "      <td>4.430893e+06</td>\n",
              "      <td>0.0</td>\n",
              "      <td>4.430893e+06</td>\n",
              "    </tr>\n",
              "    <tr>\n",
              "      <th>mean</th>\n",
              "      <td>5.198083e-01</td>\n",
              "      <td>1.966998e+00</td>\n",
              "      <td>8.718415e+00</td>\n",
              "      <td>NaN</td>\n",
              "      <td>1.122972e+18</td>\n",
              "    </tr>\n",
              "    <tr>\n",
              "      <th>std</th>\n",
              "      <td>2.759071e+01</td>\n",
              "      <td>1.521752e+02</td>\n",
              "      <td>4.682563e+02</td>\n",
              "      <td>NaN</td>\n",
              "      <td>4.046198e+16</td>\n",
              "    </tr>\n",
              "    <tr>\n",
              "      <th>min</th>\n",
              "      <td>0.000000e+00</td>\n",
              "      <td>0.000000e+00</td>\n",
              "      <td>0.000000e+00</td>\n",
              "      <td>NaN</td>\n",
              "      <td>1.046550e+18</td>\n",
              "    </tr>\n",
              "    <tr>\n",
              "      <th>25%</th>\n",
              "      <td>0.000000e+00</td>\n",
              "      <td>0.000000e+00</td>\n",
              "      <td>0.000000e+00</td>\n",
              "      <td>NaN</td>\n",
              "      <td>1.090000e+18</td>\n",
              "    </tr>\n",
              "    <tr>\n",
              "      <th>50%</th>\n",
              "      <td>0.000000e+00</td>\n",
              "      <td>0.000000e+00</td>\n",
              "      <td>0.000000e+00</td>\n",
              "      <td>NaN</td>\n",
              "      <td>1.130000e+18</td>\n",
              "    </tr>\n",
              "    <tr>\n",
              "      <th>75%</th>\n",
              "      <td>0.000000e+00</td>\n",
              "      <td>0.000000e+00</td>\n",
              "      <td>1.000000e+00</td>\n",
              "      <td>NaN</td>\n",
              "      <td>1.150000e+18</td>\n",
              "    </tr>\n",
              "    <tr>\n",
              "      <th>max</th>\n",
              "      <td>3.018600e+04</td>\n",
              "      <td>1.923170e+05</td>\n",
              "      <td>4.482950e+05</td>\n",
              "      <td>NaN</td>\n",
              "      <td>1.190000e+18</td>\n",
              "    </tr>\n",
              "  </tbody>\n",
              "</table>\n",
              "</div>\n",
              "      <button class=\"colab-df-convert\" onclick=\"convertToInteractive('df-13fb0732-5a09-400e-bc0e-01e20b39276f')\"\n",
              "              title=\"Convert this dataframe to an interactive table.\"\n",
              "              style=\"display:none;\">\n",
              "        \n",
              "  <svg xmlns=\"http://www.w3.org/2000/svg\" height=\"24px\"viewBox=\"0 0 24 24\"\n",
              "       width=\"24px\">\n",
              "    <path d=\"M0 0h24v24H0V0z\" fill=\"none\"/>\n",
              "    <path d=\"M18.56 5.44l.94 2.06.94-2.06 2.06-.94-2.06-.94-.94-2.06-.94 2.06-2.06.94zm-11 1L8.5 8.5l.94-2.06 2.06-.94-2.06-.94L8.5 2.5l-.94 2.06-2.06.94zm10 10l.94 2.06.94-2.06 2.06-.94-2.06-.94-.94-2.06-.94 2.06-2.06.94z\"/><path d=\"M17.41 7.96l-1.37-1.37c-.4-.4-.92-.59-1.43-.59-.52 0-1.04.2-1.43.59L10.3 9.45l-7.72 7.72c-.78.78-.78 2.05 0 2.83L4 21.41c.39.39.9.59 1.41.59.51 0 1.02-.2 1.41-.59l7.78-7.78 2.81-2.81c.8-.78.8-2.07 0-2.86zM5.41 20L4 18.59l7.72-7.72 1.47 1.35L5.41 20z\"/>\n",
              "  </svg>\n",
              "      </button>\n",
              "      \n",
              "  <style>\n",
              "    .colab-df-container {\n",
              "      display:flex;\n",
              "      flex-wrap:wrap;\n",
              "      gap: 12px;\n",
              "    }\n",
              "\n",
              "    .colab-df-convert {\n",
              "      background-color: #E8F0FE;\n",
              "      border: none;\n",
              "      border-radius: 50%;\n",
              "      cursor: pointer;\n",
              "      display: none;\n",
              "      fill: #1967D2;\n",
              "      height: 32px;\n",
              "      padding: 0 0 0 0;\n",
              "      width: 32px;\n",
              "    }\n",
              "\n",
              "    .colab-df-convert:hover {\n",
              "      background-color: #E2EBFA;\n",
              "      box-shadow: 0px 1px 2px rgba(60, 64, 67, 0.3), 0px 1px 3px 1px rgba(60, 64, 67, 0.15);\n",
              "      fill: #174EA6;\n",
              "    }\n",
              "\n",
              "    [theme=dark] .colab-df-convert {\n",
              "      background-color: #3B4455;\n",
              "      fill: #D2E3FC;\n",
              "    }\n",
              "\n",
              "    [theme=dark] .colab-df-convert:hover {\n",
              "      background-color: #434B5C;\n",
              "      box-shadow: 0px 1px 3px 1px rgba(0, 0, 0, 0.15);\n",
              "      filter: drop-shadow(0px 1px 2px rgba(0, 0, 0, 0.3));\n",
              "      fill: #FFFFFF;\n",
              "    }\n",
              "  </style>\n",
              "\n",
              "      <script>\n",
              "        const buttonEl =\n",
              "          document.querySelector('#df-13fb0732-5a09-400e-bc0e-01e20b39276f button.colab-df-convert');\n",
              "        buttonEl.style.display =\n",
              "          google.colab.kernel.accessAllowed ? 'block' : 'none';\n",
              "\n",
              "        async function convertToInteractive(key) {\n",
              "          const element = document.querySelector('#df-13fb0732-5a09-400e-bc0e-01e20b39276f');\n",
              "          const dataTable =\n",
              "            await google.colab.kernel.invokeFunction('convertToInteractive',\n",
              "                                                     [key], {});\n",
              "          if (!dataTable) return;\n",
              "\n",
              "          const docLinkHtml = 'Like what you see? Visit the ' +\n",
              "            '<a target=\"_blank\" href=https://colab.research.google.com/notebooks/data_table.ipynb>data table notebook</a>'\n",
              "            + ' to learn more about interactive tables.';\n",
              "          element.innerHTML = '';\n",
              "          dataTable['output_type'] = 'display_data';\n",
              "          await google.colab.output.renderOutput(dataTable, element);\n",
              "          const docLink = document.createElement('div');\n",
              "          docLink.innerHTML = docLinkHtml;\n",
              "          element.appendChild(docLink);\n",
              "        }\n",
              "      </script>\n",
              "    </div>\n",
              "  </div>\n",
              "  "
            ],
            "text/plain": [
              "            replies      retweets     favorites  geo            id\n",
              "count  4.430893e+06  4.430893e+06  4.430893e+06  0.0  4.430893e+06\n",
              "mean   5.198083e-01  1.966998e+00  8.718415e+00  NaN  1.122972e+18\n",
              "std    2.759071e+01  1.521752e+02  4.682563e+02  NaN  4.046198e+16\n",
              "min    0.000000e+00  0.000000e+00  0.000000e+00  NaN  1.046550e+18\n",
              "25%    0.000000e+00  0.000000e+00  0.000000e+00  NaN  1.090000e+18\n",
              "50%    0.000000e+00  0.000000e+00  0.000000e+00  NaN  1.130000e+18\n",
              "75%    0.000000e+00  0.000000e+00  1.000000e+00  NaN  1.150000e+18\n",
              "max    3.018600e+04  1.923170e+05  4.482950e+05  NaN  1.190000e+18"
            ]
          },
          "metadata": {},
          "execution_count": 7
        }
      ],
      "execution_count": null
    },
    {
      "cell_type": "code",
      "source": [
        "# statistical information about the categorical variable\n",
        "nike.describe(include=['O']).T"
      ],
      "metadata": {
        "application/vnd.databricks.v1+cell": {
          "title": "",
          "showTitle": false,
          "inputWidgets": {},
          "nuid": "8153d439-d481-4e64-b797-0752a3792395"
        },
        "colab": {
          "base_uri": "https://localhost:8080/",
          "height": 269
        },
        "id": "Rgy05WAgTcMD",
        "outputId": "8bccbbe7-daa2-46c2-8cd7-65ef219a5756"
      },
      "outputs": [
        {
          "output_type": "execute_result",
          "data": {
            "text/html": [
              "\n",
              "  <div id=\"df-dce831b2-8c95-427e-9004-5e41066119b1\">\n",
              "    <div class=\"colab-df-container\">\n",
              "      <div>\n",
              "<style scoped>\n",
              "    .dataframe tbody tr th:only-of-type {\n",
              "        vertical-align: middle;\n",
              "    }\n",
              "\n",
              "    .dataframe tbody tr th {\n",
              "        vertical-align: top;\n",
              "    }\n",
              "\n",
              "    .dataframe thead th {\n",
              "        text-align: right;\n",
              "    }\n",
              "</style>\n",
              "<table border=\"1\" class=\"dataframe\">\n",
              "  <thead>\n",
              "    <tr style=\"text-align: right;\">\n",
              "      <th></th>\n",
              "      <th>count</th>\n",
              "      <th>unique</th>\n",
              "      <th>top</th>\n",
              "      <th>freq</th>\n",
              "    </tr>\n",
              "  </thead>\n",
              "  <tbody>\n",
              "    <tr>\n",
              "      <th>date</th>\n",
              "      <td>4430893</td>\n",
              "      <td>550716</td>\n",
              "      <td>7/7/19 17:00</td>\n",
              "      <td>1354</td>\n",
              "    </tr>\n",
              "    <tr>\n",
              "      <th>username</th>\n",
              "      <td>4430892</td>\n",
              "      <td>1514640</td>\n",
              "      <td>StockXLive</td>\n",
              "      <td>38991</td>\n",
              "    </tr>\n",
              "    <tr>\n",
              "      <th>to</th>\n",
              "      <td>1446715</td>\n",
              "      <td>439408</td>\n",
              "      <td>Nike</td>\n",
              "      <td>38987</td>\n",
              "    </tr>\n",
              "    <tr>\n",
              "      <th>text</th>\n",
              "      <td>4430893</td>\n",
              "      <td>4025865</td>\n",
              "      <td>Nike</td>\n",
              "      <td>15050</td>\n",
              "    </tr>\n",
              "    <tr>\n",
              "      <th>mentions</th>\n",
              "      <td>1047813</td>\n",
              "      <td>210711</td>\n",
              "      <td>@poshmarkapp</td>\n",
              "      <td>176117</td>\n",
              "    </tr>\n",
              "    <tr>\n",
              "      <th>hashtags</th>\n",
              "      <td>1131303</td>\n",
              "      <td>459530</td>\n",
              "      <td>#shopmycloset</td>\n",
              "      <td>168407</td>\n",
              "    </tr>\n",
              "    <tr>\n",
              "      <th>permalink</th>\n",
              "      <td>4430893</td>\n",
              "      <td>4430893</td>\n",
              "      <td>https://twitter.com/SneakerShouts/status/11125...</td>\n",
              "      <td>1</td>\n",
              "    </tr>\n",
              "  </tbody>\n",
              "</table>\n",
              "</div>\n",
              "      <button class=\"colab-df-convert\" onclick=\"convertToInteractive('df-dce831b2-8c95-427e-9004-5e41066119b1')\"\n",
              "              title=\"Convert this dataframe to an interactive table.\"\n",
              "              style=\"display:none;\">\n",
              "        \n",
              "  <svg xmlns=\"http://www.w3.org/2000/svg\" height=\"24px\"viewBox=\"0 0 24 24\"\n",
              "       width=\"24px\">\n",
              "    <path d=\"M0 0h24v24H0V0z\" fill=\"none\"/>\n",
              "    <path d=\"M18.56 5.44l.94 2.06.94-2.06 2.06-.94-2.06-.94-.94-2.06-.94 2.06-2.06.94zm-11 1L8.5 8.5l.94-2.06 2.06-.94-2.06-.94L8.5 2.5l-.94 2.06-2.06.94zm10 10l.94 2.06.94-2.06 2.06-.94-2.06-.94-.94-2.06-.94 2.06-2.06.94z\"/><path d=\"M17.41 7.96l-1.37-1.37c-.4-.4-.92-.59-1.43-.59-.52 0-1.04.2-1.43.59L10.3 9.45l-7.72 7.72c-.78.78-.78 2.05 0 2.83L4 21.41c.39.39.9.59 1.41.59.51 0 1.02-.2 1.41-.59l7.78-7.78 2.81-2.81c.8-.78.8-2.07 0-2.86zM5.41 20L4 18.59l7.72-7.72 1.47 1.35L5.41 20z\"/>\n",
              "  </svg>\n",
              "      </button>\n",
              "      \n",
              "  <style>\n",
              "    .colab-df-container {\n",
              "      display:flex;\n",
              "      flex-wrap:wrap;\n",
              "      gap: 12px;\n",
              "    }\n",
              "\n",
              "    .colab-df-convert {\n",
              "      background-color: #E8F0FE;\n",
              "      border: none;\n",
              "      border-radius: 50%;\n",
              "      cursor: pointer;\n",
              "      display: none;\n",
              "      fill: #1967D2;\n",
              "      height: 32px;\n",
              "      padding: 0 0 0 0;\n",
              "      width: 32px;\n",
              "    }\n",
              "\n",
              "    .colab-df-convert:hover {\n",
              "      background-color: #E2EBFA;\n",
              "      box-shadow: 0px 1px 2px rgba(60, 64, 67, 0.3), 0px 1px 3px 1px rgba(60, 64, 67, 0.15);\n",
              "      fill: #174EA6;\n",
              "    }\n",
              "\n",
              "    [theme=dark] .colab-df-convert {\n",
              "      background-color: #3B4455;\n",
              "      fill: #D2E3FC;\n",
              "    }\n",
              "\n",
              "    [theme=dark] .colab-df-convert:hover {\n",
              "      background-color: #434B5C;\n",
              "      box-shadow: 0px 1px 3px 1px rgba(0, 0, 0, 0.15);\n",
              "      filter: drop-shadow(0px 1px 2px rgba(0, 0, 0, 0.3));\n",
              "      fill: #FFFFFF;\n",
              "    }\n",
              "  </style>\n",
              "\n",
              "      <script>\n",
              "        const buttonEl =\n",
              "          document.querySelector('#df-dce831b2-8c95-427e-9004-5e41066119b1 button.colab-df-convert');\n",
              "        buttonEl.style.display =\n",
              "          google.colab.kernel.accessAllowed ? 'block' : 'none';\n",
              "\n",
              "        async function convertToInteractive(key) {\n",
              "          const element = document.querySelector('#df-dce831b2-8c95-427e-9004-5e41066119b1');\n",
              "          const dataTable =\n",
              "            await google.colab.kernel.invokeFunction('convertToInteractive',\n",
              "                                                     [key], {});\n",
              "          if (!dataTable) return;\n",
              "\n",
              "          const docLinkHtml = 'Like what you see? Visit the ' +\n",
              "            '<a target=\"_blank\" href=https://colab.research.google.com/notebooks/data_table.ipynb>data table notebook</a>'\n",
              "            + ' to learn more about interactive tables.';\n",
              "          element.innerHTML = '';\n",
              "          dataTable['output_type'] = 'display_data';\n",
              "          await google.colab.output.renderOutput(dataTable, element);\n",
              "          const docLink = document.createElement('div');\n",
              "          docLink.innerHTML = docLinkHtml;\n",
              "          element.appendChild(docLink);\n",
              "        }\n",
              "      </script>\n",
              "    </div>\n",
              "  </div>\n",
              "  "
            ],
            "text/plain": [
              "             count  ...    freq\n",
              "date       4430893  ...    1354\n",
              "username   4430892  ...   38991\n",
              "to         1446715  ...   38987\n",
              "text       4430893  ...   15050\n",
              "mentions   1047813  ...  176117\n",
              "hashtags   1131303  ...  168407\n",
              "permalink  4430893  ...       1\n",
              "\n",
              "[7 rows x 4 columns]"
            ]
          },
          "metadata": {},
          "execution_count": 8
        }
      ],
      "execution_count": null
    },
    {
      "cell_type": "code",
      "source": [
        "#missed step, adding empty value to mentions and hashtags as it will help in future for much better analysis. \n",
        "nike.mentions = nike.mentions.fillna('@EMPTY')\n",
        "#nike.hashtags = nike.hashtags.fillna('#EMPTY')\n",
        "nike.head()"
      ],
      "metadata": {
        "application/vnd.databricks.v1+cell": {
          "title": "",
          "showTitle": false,
          "inputWidgets": {},
          "nuid": "4ff6b996-dde9-427b-a2a2-4e69741f3ac4"
        },
        "colab": {
          "base_uri": "https://localhost:8080/",
          "height": 441
        },
        "id": "L4iZ1UyZTcME",
        "outputId": "f5ba8bfa-c485-4571-f0ef-6e26b56d4c6e"
      },
      "outputs": [
        {
          "output_type": "execute_result",
          "data": {
            "text/html": [
              "\n",
              "  <div id=\"df-9e0d6834-077d-49d9-81c3-0187491a70fc\">\n",
              "    <div class=\"colab-df-container\">\n",
              "      <div>\n",
              "<style scoped>\n",
              "    .dataframe tbody tr th:only-of-type {\n",
              "        vertical-align: middle;\n",
              "    }\n",
              "\n",
              "    .dataframe tbody tr th {\n",
              "        vertical-align: top;\n",
              "    }\n",
              "\n",
              "    .dataframe thead th {\n",
              "        text-align: right;\n",
              "    }\n",
              "</style>\n",
              "<table border=\"1\" class=\"dataframe\">\n",
              "  <thead>\n",
              "    <tr style=\"text-align: right;\">\n",
              "      <th></th>\n",
              "      <th>date</th>\n",
              "      <th>username</th>\n",
              "      <th>to</th>\n",
              "      <th>replies</th>\n",
              "      <th>retweets</th>\n",
              "      <th>favorites</th>\n",
              "      <th>text</th>\n",
              "      <th>geo</th>\n",
              "      <th>mentions</th>\n",
              "      <th>hashtags</th>\n",
              "      <th>id</th>\n",
              "      <th>permalink</th>\n",
              "    </tr>\n",
              "  </thead>\n",
              "  <tbody>\n",
              "    <tr>\n",
              "      <th>0</th>\n",
              "      <td>4/1/19 0:00</td>\n",
              "      <td>SneakerShouts</td>\n",
              "      <td>NaN</td>\n",
              "      <td>0</td>\n",
              "      <td>2</td>\n",
              "      <td>24</td>\n",
              "      <td>STEAL: Over 50% OFF + free shipping on the Nik...</td>\n",
              "      <td>NaN</td>\n",
              "      <td>@EMPTY</td>\n",
              "      <td>NaN</td>\n",
              "      <td>1.110000e+18</td>\n",
              "      <td>https://twitter.com/SneakerShouts/status/11125...</td>\n",
              "    </tr>\n",
              "    <tr>\n",
              "      <th>1</th>\n",
              "      <td>4/1/19 0:00</td>\n",
              "      <td>Ebay_Birmingham</td>\n",
              "      <td>NaN</td>\n",
              "      <td>0</td>\n",
              "      <td>0</td>\n",
              "      <td>0</td>\n",
              "      <td>Check out #Nike Dry Fit Shorts Women's Tempo N...</td>\n",
              "      <td>NaN</td>\n",
              "      <td>@eBay</td>\n",
              "      <td>#Nike #Nike #ebay #poshmark #mercari</td>\n",
              "      <td>1.110000e+18</td>\n",
              "      <td>https://twitter.com/Ebay_Birmingham/status/111...</td>\n",
              "    </tr>\n",
              "    <tr>\n",
              "      <th>2</th>\n",
              "      <td>4/1/19 0:00</td>\n",
              "      <td>SneakerNews</td>\n",
              "      <td>NaN</td>\n",
              "      <td>2</td>\n",
              "      <td>15</td>\n",
              "      <td>102</td>\n",
              "      <td>The Nike Air Max 97 \"Seoul\" will release via N...</td>\n",
              "      <td>NaN</td>\n",
              "      <td>@EMPTY</td>\n",
              "      <td>NaN</td>\n",
              "      <td>1.110000e+18</td>\n",
              "      <td>https://twitter.com/SneakerNews/status/1112504...</td>\n",
              "    </tr>\n",
              "    <tr>\n",
              "      <th>3</th>\n",
              "      <td>4/1/19 0:00</td>\n",
              "      <td>titoloshop</td>\n",
              "      <td>NaN</td>\n",
              "      <td>0</td>\n",
              "      <td>0</td>\n",
              "      <td>0</td>\n",
              "      <td>Nike Air Vapormax Flyknit 3 - Atmosphere Grey/...</td>\n",
              "      <td>NaN</td>\n",
              "      <td>@EMPTY</td>\n",
              "      <td>NaN</td>\n",
              "      <td>1.110000e+18</td>\n",
              "      <td>https://twitter.com/titoloshop/status/11125048...</td>\n",
              "    </tr>\n",
              "    <tr>\n",
              "      <th>4</th>\n",
              "      <td>4/1/19 0:00</td>\n",
              "      <td>Taniabanks24</td>\n",
              "      <td>BornLiveDieFree</td>\n",
              "      <td>2</td>\n",
              "      <td>0</td>\n",
              "      <td>0</td>\n",
              "      <td>@MichaelAvenatti He ain‚Äôt dumb he is not sho...</td>\n",
              "      <td>NaN</td>\n",
              "      <td>@MichaelAvenatti</td>\n",
              "      <td>NaN</td>\n",
              "      <td>1.110000e+18</td>\n",
              "      <td>https://twitter.com/Taniabanks24/status/111250...</td>\n",
              "    </tr>\n",
              "  </tbody>\n",
              "</table>\n",
              "</div>\n",
              "      <button class=\"colab-df-convert\" onclick=\"convertToInteractive('df-9e0d6834-077d-49d9-81c3-0187491a70fc')\"\n",
              "              title=\"Convert this dataframe to an interactive table.\"\n",
              "              style=\"display:none;\">\n",
              "        \n",
              "  <svg xmlns=\"http://www.w3.org/2000/svg\" height=\"24px\"viewBox=\"0 0 24 24\"\n",
              "       width=\"24px\">\n",
              "    <path d=\"M0 0h24v24H0V0z\" fill=\"none\"/>\n",
              "    <path d=\"M18.56 5.44l.94 2.06.94-2.06 2.06-.94-2.06-.94-.94-2.06-.94 2.06-2.06.94zm-11 1L8.5 8.5l.94-2.06 2.06-.94-2.06-.94L8.5 2.5l-.94 2.06-2.06.94zm10 10l.94 2.06.94-2.06 2.06-.94-2.06-.94-.94-2.06-.94 2.06-2.06.94z\"/><path d=\"M17.41 7.96l-1.37-1.37c-.4-.4-.92-.59-1.43-.59-.52 0-1.04.2-1.43.59L10.3 9.45l-7.72 7.72c-.78.78-.78 2.05 0 2.83L4 21.41c.39.39.9.59 1.41.59.51 0 1.02-.2 1.41-.59l7.78-7.78 2.81-2.81c.8-.78.8-2.07 0-2.86zM5.41 20L4 18.59l7.72-7.72 1.47 1.35L5.41 20z\"/>\n",
              "  </svg>\n",
              "      </button>\n",
              "      \n",
              "  <style>\n",
              "    .colab-df-container {\n",
              "      display:flex;\n",
              "      flex-wrap:wrap;\n",
              "      gap: 12px;\n",
              "    }\n",
              "\n",
              "    .colab-df-convert {\n",
              "      background-color: #E8F0FE;\n",
              "      border: none;\n",
              "      border-radius: 50%;\n",
              "      cursor: pointer;\n",
              "      display: none;\n",
              "      fill: #1967D2;\n",
              "      height: 32px;\n",
              "      padding: 0 0 0 0;\n",
              "      width: 32px;\n",
              "    }\n",
              "\n",
              "    .colab-df-convert:hover {\n",
              "      background-color: #E2EBFA;\n",
              "      box-shadow: 0px 1px 2px rgba(60, 64, 67, 0.3), 0px 1px 3px 1px rgba(60, 64, 67, 0.15);\n",
              "      fill: #174EA6;\n",
              "    }\n",
              "\n",
              "    [theme=dark] .colab-df-convert {\n",
              "      background-color: #3B4455;\n",
              "      fill: #D2E3FC;\n",
              "    }\n",
              "\n",
              "    [theme=dark] .colab-df-convert:hover {\n",
              "      background-color: #434B5C;\n",
              "      box-shadow: 0px 1px 3px 1px rgba(0, 0, 0, 0.15);\n",
              "      filter: drop-shadow(0px 1px 2px rgba(0, 0, 0, 0.3));\n",
              "      fill: #FFFFFF;\n",
              "    }\n",
              "  </style>\n",
              "\n",
              "      <script>\n",
              "        const buttonEl =\n",
              "          document.querySelector('#df-9e0d6834-077d-49d9-81c3-0187491a70fc button.colab-df-convert');\n",
              "        buttonEl.style.display =\n",
              "          google.colab.kernel.accessAllowed ? 'block' : 'none';\n",
              "\n",
              "        async function convertToInteractive(key) {\n",
              "          const element = document.querySelector('#df-9e0d6834-077d-49d9-81c3-0187491a70fc');\n",
              "          const dataTable =\n",
              "            await google.colab.kernel.invokeFunction('convertToInteractive',\n",
              "                                                     [key], {});\n",
              "          if (!dataTable) return;\n",
              "\n",
              "          const docLinkHtml = 'Like what you see? Visit the ' +\n",
              "            '<a target=\"_blank\" href=https://colab.research.google.com/notebooks/data_table.ipynb>data table notebook</a>'\n",
              "            + ' to learn more about interactive tables.';\n",
              "          element.innerHTML = '';\n",
              "          dataTable['output_type'] = 'display_data';\n",
              "          await google.colab.output.renderOutput(dataTable, element);\n",
              "          const docLink = document.createElement('div');\n",
              "          docLink.innerHTML = docLinkHtml;\n",
              "          element.appendChild(docLink);\n",
              "        }\n",
              "      </script>\n",
              "    </div>\n",
              "  </div>\n",
              "  "
            ],
            "text/plain": [
              "          date  ...                                          permalink\n",
              "0  4/1/19 0:00  ...  https://twitter.com/SneakerShouts/status/11125...\n",
              "1  4/1/19 0:00  ...  https://twitter.com/Ebay_Birmingham/status/111...\n",
              "2  4/1/19 0:00  ...  https://twitter.com/SneakerNews/status/1112504...\n",
              "3  4/1/19 0:00  ...  https://twitter.com/titoloshop/status/11125048...\n",
              "4  4/1/19 0:00  ...  https://twitter.com/Taniabanks24/status/111250...\n",
              "\n",
              "[5 rows x 12 columns]"
            ]
          },
          "metadata": {},
          "execution_count": 9
        }
      ],
      "execution_count": null
    },
    {
      "cell_type": "code",
      "source": [
        "#visualization for all int types\n",
        "\n",
        "sns.displot(x='replies', data=nike, kde=True)"
      ],
      "metadata": {
        "application/vnd.databricks.v1+cell": {
          "title": "",
          "showTitle": false,
          "inputWidgets": {},
          "nuid": "e20a3ad3-97f2-412a-a71d-a72c8513aaab"
        },
        "colab": {
          "base_uri": "https://localhost:8080/",
          "height": 386
        },
        "id": "o9fcYrAhTcMF",
        "outputId": "0be1f7a0-bc55-4813-bd98-73bc52a55ece"
      },
      "outputs": [
        {
          "output_type": "execute_result",
          "data": {
            "text/plain": [
              "<seaborn.axisgrid.FacetGrid at 0x7fa58c6772d0>"
            ]
          },
          "metadata": {},
          "execution_count": 10
        },
        {
          "output_type": "display_data",
          "data": {
            "image/png": "[encoded data removed]",
            "text/plain": [
              "<Figure size 360x360 with 1 Axes>"
            ]
          },
          "metadata": {
            "needs_background": "light"
          }
        }
      ],
      "execution_count": null
    },
    {
      "cell_type": "code",
      "source": [
        "nike['replies'].unique()"
      ],
      "metadata": {
        "application/vnd.databricks.v1+cell": {
          "title": "",
          "showTitle": false,
          "inputWidgets": {},
          "nuid": "c3c04329-caaa-478b-8718-e89aafc94cf8"
        },
        "colab": {
          "base_uri": "https://localhost:8080/"
        },
        "id": "WNcsuoCcTcMF",
        "outputId": "91396e51-bb73-485b-a87b-f454d396891c"
      },
      "outputs": [
        {
          "output_type": "execute_result",
          "data": {
            "text/plain": [
              "array([    0,     2,    19,     1,     3,     4,     7,    12,    15,\n",
              "           8,     5,    11,     6,   203,    10,    34,    30,    17,\n",
              "           9,    33,    44,    14,    24,    13,    27,   165,    20,\n",
              "          73,    22,    39,   138,    16,   119,    21,    90,    41,\n",
              "          26,    18,    29,    56,    23,    37,    66,   190,    74,\n",
              "          55,    48,    28,    35,    61,   145,    76,   213,    42,\n",
              "         116,   113,   177,    46,    58,    50,    87,    59,    70,\n",
              "         180,   202,   280,    31,   783,   232,    40,   206,    89,\n",
              "          43,   210,    93,  1375,   669,   424,    25,   160,    53,\n",
              "         178,    82,   410,   176,   319,   345,    49,    68,   237,\n",
              "         312,   265,    62,    71,   100,   105,    45,    32,   320,\n",
              "          67,   112,    85,    78,    36,   218,    81,    47,    79,\n",
              "         153,    38,   234,   110,  1986,   268,    95,   205,    54,\n",
              "         227,   130,  1040,   129,  2064,   324,    96,   228,   120,\n",
              "          57,   377,    69,    80,   239,   184,   127,   117,   158,\n",
              "         297,   215,   261,    92,    94,    51,   108,   240,    60,\n",
              "         264,    91,   387,    97,   125,    99,   103,   782,    63,\n",
              "         150,   128,   109,   172,   219,    88,   352,   350,  1012,\n",
              "         106,    52,   169,    64,   341,    77,   384,   498,   122,\n",
              "         170,  1243,    65,   712,   123,   412,    75,   288,   360,\n",
              "         173,   175,   174,   945,   300,   166,  1324,   146,   296,\n",
              "         137,   186,   148,   807,   353,   111,   207,    83,   135,\n",
              "         104,   200,   310,   121,   167,  1594,   151,  1302,   157,\n",
              "         222,   251,   143,   101,   159,   689,   303,  1021,   131,\n",
              "         249,    86,    84,   465,   266,   443,   242,  5410,   305,\n",
              "         335,   248,  1522,   149,   156,   185,   246,   259,   394,\n",
              "         102,  1132,   171,    72,   504,   879,  6012,   134,   114,\n",
              "         230,   892,   217,   133,   434,   136,   746,   247,   115,\n",
              "         583,  1080,   754,   257,   204,   421,   458,   214,   155,\n",
              "         418,   554,   912,   557,   517,   368,   183,   243,  3202,\n",
              "        7118,   348,   572,  1059,  3286,  9140,  6832,   209,   484,\n",
              "        1137,   565,   107,  3179,   306,  1273,   871,   576,   212,\n",
              "        1001,   271,    98,   168,   275,   233,   220,  1139,  2032,\n",
              "         441,   126,   118,  5865,  1294,   507,   990,  5095,  1624,\n",
              "         194,   256,   163,   543,   295,   196,   471,   291,   566,\n",
              "        2700,   285,   729,  1783,   229,   637,   501,  1425,  1019,\n",
              "         873,  1934,   179,   502,   704,   470,   258,   675,   526,\n",
              "         366,  1177,   273,  1115,  2177,   195,  6182,   817,   236,\n",
              "         491,  1049,  1869,   374,   147,   197,  1054,   142,   225,\n",
              "         322,   673,   181,  1068,  2318,  1142,   423,  1569,   283,\n",
              "       30186,   140,  4193,  1204,   164,   314,  1151,   846,  2141,\n",
              "         409,   321,   141,  1647,   235,  6514,  1379,   523,   414,\n",
              "         532,   401,   392, 11590,   832,  3072,   628,   356,   724,\n",
              "         211,  1231,   400,   349,  6833,   182,  1045,   124,   270,\n",
              "         272,   809,   330,   344,   651,  1629,  1328,  4977,   380,\n",
              "        2127, 21669,   598,   812,  1448,  1639,   187,   641,   681,\n",
              "         880,  3548,   798,  1990,   506,   459,  2065,  1970,  1166,\n",
              "         254,   959,   132,   695,   241,   426,   437,   487,   850,\n",
              "         524,   957,   192,   224,   245,   511,   139,   162,   284,\n",
              "         250,   363,  1865,   221,   786,   199,   144,   286,   656,\n",
              "         836,   292,  1241,  1748,   743,   661,  1067,  7616,   161,\n",
              "         188,  1141,   537,   193,   327,   609,   473,   278,   638,\n",
              "       10809,   216,  6560,   369,   561,   991,  1265,   304,   231,\n",
              "        6027,  1063,  4060,   359,   867,   597,   499,  2862,   397,\n",
              "         939,   877,   152,   868,   318,  1136,   388,   347,  3393,\n",
              "         951,   307,   336,   451,   379,   263,  1076,  1036,   382,\n",
              "        2617,   396,  1683,   686,  3689,   398,   198,   260,   293,\n",
              "         723,   923,   269,   411,   223,   419,   338,   315,   640,\n",
              "        1706,   839,   678,   625,   768,   562,   267,  2356,  1189,\n",
              "         255,   612,   154,   339,  1120,   600,   439,  1842,   289,\n",
              "         191,   534,  1240,  1303,  1268,   731,   520,   294,   208,\n",
              "         581,   429,   343,   262,   226,   317,   799,   189,   781,\n",
              "        2465,  1385,   575,   408,   475,   385,   734,   422,   954,\n",
              "         540,   645,  1488,  1630,   282,  1387,  2533,  2117,   970,\n",
              "         466,  1030,  1315,   785,   277,   840,   354,   630,   375,\n",
              "         355,   399,   253,   813,   979,  3317,   244,   852,  5188,\n",
              "         435,  4812,  1016,  2517,  1270,   351,  1007,   552,  1456,\n",
              "        4716,  1422,   431,  2354,  2133,   493,   390,   773,   480,\n",
              "         927,  6909,   274,   298,  1180,   446,   693,   365,   476,\n",
              "         763,  2246,   404,   492,  1098,   933,   453,  1638,   362,\n",
              "        1390,  4989,   279,   947,  1815,  7735,  1373,  4368,   666,\n",
              "         433,   667,  1692,   308,   472,   313,  5992,   238,   595,\n",
              "         468,   551,   692,   395,   287, 18439,   252,   361,   371,\n",
              "         679,  1071,   791,   652,  3184,  1209,   865,  1314,   837,\n",
              "         376,  1476])"
            ]
          },
          "metadata": {},
          "execution_count": 11
        }
      ],
      "execution_count": null
    },
    {
      "cell_type": "code",
      "source": [
        "sns.displot(x='retweets', data=nike, kde=True)"
      ],
      "metadata": {
        "application/vnd.databricks.v1+cell": {
          "title": "",
          "showTitle": false,
          "inputWidgets": {},
          "nuid": "01a83714-fed6-46e5-8660-389860ad8f79"
        },
        "colab": {
          "base_uri": "https://localhost:8080/",
          "height": 386
        },
        "id": "T_Rd_cQcTcMG",
        "outputId": "93b331bf-dd4c-4d9d-e25c-bd9ae08dd96e"
      },
      "outputs": [
        {
          "output_type": "execute_result",
          "data": {
            "text/plain": [
              "<seaborn.axisgrid.FacetGrid at 0x7fa509d4f350>"
            ]
          },
          "metadata": {},
          "execution_count": 12
        },
        {
          "output_type": "display_data",
          "data": {
            "image/png": "[encoded data removed]",
            "text/plain": [
              "<Figure size 360x360 with 1 Axes>"
            ]
          },
          "metadata": {
            "needs_background": "light"
          }
        }
      ],
      "execution_count": null
    },
    {
      "cell_type": "code",
      "source": [
        "nike['retweets'].unique()"
      ],
      "metadata": {
        "application/vnd.databricks.v1+cell": {
          "title": "",
          "showTitle": false,
          "inputWidgets": {},
          "nuid": "67bcf9c5-0be5-43b6-8702-42f74ec1118f"
        },
        "colab": {
          "base_uri": "https://localhost:8080/"
        },
        "id": "DOGmDyRfTcMG",
        "outputId": "390fbcdd-f4fa-4635-b903-67261003cd75"
      },
      "outputs": [
        {
          "output_type": "execute_result",
          "data": {
            "text/plain": [
              "array([   2,    0,   15, ..., 1655, 3510,  812])"
            ]
          },
          "metadata": {},
          "execution_count": 13
        }
      ],
      "execution_count": null
    },
    {
      "cell_type": "code",
      "source": [
        "#correlation of data\n",
        "\n",
        "sns.heatmap(nike.corr(), annot=True)"
      ],
      "metadata": {
        "application/vnd.databricks.v1+cell": {
          "title": "",
          "showTitle": false,
          "inputWidgets": {},
          "nuid": "475f8d07-2d6c-4aeb-b4ea-c9c9bf90716d"
        },
        "colab": {
          "base_uri": "https://localhost:8080/",
          "height": 286
        },
        "id": "Vde04BwnTcMH",
        "outputId": "1cf0086f-782f-4432-8b40-5b0b22eac58f"
      },
      "outputs": [
        {
          "output_type": "execute_result",
          "data": {
            "text/plain": [
              "<matplotlib.axes._subplots.AxesSubplot at 0x7fa5098d5fd0>"
            ]
          },
          "metadata": {},
          "execution_count": 14
        },
        {
          "output_type": "display_data",
          "data": {
            "image/png": "[encoded data removed]",
            "text/plain": [
              "<Figure size 432x288 with 2 Axes>"
            ]
          },
          "metadata": {
            "needs_background": "light"
          }
        }
      ],
      "execution_count": null
    },
    {
      "cell_type": "code",
      "source": [
        "#sns.pairplot(nike)"
      ],
      "metadata": {
        "application/vnd.databricks.v1+cell": {
          "title": "",
          "showTitle": false,
          "inputWidgets": {},
          "nuid": "a30c4551-5802-4e83-adb1-0575b5c3462e"
        },
        "id": "jFQkallOTcMH"
      },
      "outputs": [],
      "execution_count": null
    },
    {
      "cell_type": "code",
      "source": [
        "sns.relplot(x='favorites', y ='replies',hue='retweets', data= nike)"
      ],
      "metadata": {
        "application/vnd.databricks.v1+cell": {
          "title": "",
          "showTitle": false,
          "inputWidgets": {},
          "nuid": "3287812c-f33c-4338-ad51-2cedde242e30"
        },
        "colab": {
          "base_uri": "https://localhost:8080/",
          "height": 386
        },
        "id": "L59LJGLqTcMI",
        "outputId": "94636dbe-6d58-4938-ae37-e01cad9e64aa"
      },
      "outputs": [
        {
          "output_type": "execute_result",
          "data": {
            "text/plain": [
              "<seaborn.axisgrid.FacetGrid at 0x7fa50983a250>"
            ]
          },
          "metadata": {},
          "execution_count": 16
        },
        {
          "output_type": "display_data",
          "data": {
            "image/png": "[encoded data removed]",
            "text/plain": [
              "<Figure size 433.75x360 with 1 Axes>"
            ]
          },
          "metadata": {
            "needs_background": "light"
          }
        }
      ],
      "execution_count": null
    },
    {
      "cell_type": "code",
      "source": [
        "#data cleaning\n",
        "nike_df = nike.drop(['geo'], axis=1)"
      ],
      "metadata": {
        "application/vnd.databricks.v1+cell": {
          "title": "",
          "showTitle": false,
          "inputWidgets": {},
          "nuid": "80a8bccf-fa48-4e8a-942c-41a348cffa7e"
        },
        "id": "wqmNhDh8TcMI"
      },
      "outputs": [],
      "execution_count": null
    },
    {
      "cell_type": "code",
      "source": [
        "#trying to replace hashtags with space and let keyword be present in the dataframe. \n",
        "\n",
        "nike_df.hashtags.replace(to_replace='#\\w+', regex=True, value='')[0]"
      ],
      "metadata": {
        "application/vnd.databricks.v1+cell": {
          "title": "",
          "showTitle": false,
          "inputWidgets": {},
          "nuid": "559597b6-142c-4769-affe-eedc82fc90d2"
        },
        "colab": {
          "base_uri": "https://localhost:8080/"
        },
        "id": "HI_TCQpETcMI",
        "outputId": "a5d4fe0b-0487-40e9-e8ef-04d520c99cd7"
      },
      "outputs": [
        {
          "output_type": "execute_result",
          "data": {
            "text/plain": [
              "nan"
            ]
          },
          "metadata": {},
          "execution_count": 18
        }
      ],
      "execution_count": null
    },
    {
      "cell_type": "code",
      "source": [
        "nike_df.head()"
      ],
      "metadata": {
        "application/vnd.databricks.v1+cell": {
          "title": "",
          "showTitle": false,
          "inputWidgets": {},
          "nuid": "180a59cc-7db6-437c-94fb-26632b80ce85"
        },
        "id": "0gJMT289TcMI",
        "outputId": "faab642d-e03f-4ca3-9e9e-c70507434a4c",
        "colab": {
          "base_uri": "https://localhost:8080/",
          "height": 389
        }
      },
      "outputs": [
        {
          "output_type": "execute_result",
          "data": {
            "text/html": [
              "\n",
              "  <div id=\"df-020adcda-51eb-4e01-9080-2a58d7012c8c\">\n",
              "    <div class=\"colab-df-container\">\n",
              "      <div>\n",
              "<style scoped>\n",
              "    .dataframe tbody tr th:only-of-type {\n",
              "        vertical-align: middle;\n",
              "    }\n",
              "\n",
              "    .dataframe tbody tr th {\n",
              "        vertical-align: top;\n",
              "    }\n",
              "\n",
              "    .dataframe thead th {\n",
              "        text-align: right;\n",
              "    }\n",
              "</style>\n",
              "<table border=\"1\" class=\"dataframe\">\n",
              "  <thead>\n",
              "    <tr style=\"text-align: right;\">\n",
              "      <th></th>\n",
              "      <th>date</th>\n",
              "      <th>username</th>\n",
              "      <th>to</th>\n",
              "      <th>replies</th>\n",
              "      <th>retweets</th>\n",
              "      <th>favorites</th>\n",
              "      <th>text</th>\n",
              "      <th>mentions</th>\n",
              "      <th>hashtags</th>\n",
              "      <th>id</th>\n",
              "      <th>permalink</th>\n",
              "    </tr>\n",
              "  </thead>\n",
              "  <tbody>\n",
              "    <tr>\n",
              "      <th>0</th>\n",
              "      <td>4/1/19 0:00</td>\n",
              "      <td>SneakerShouts</td>\n",
              "      <td>NaN</td>\n",
              "      <td>0</td>\n",
              "      <td>2</td>\n",
              "      <td>24</td>\n",
              "      <td>STEAL: Over 50% OFF + free shipping on the Nik...</td>\n",
              "      <td>@EMPTY</td>\n",
              "      <td>NaN</td>\n",
              "      <td>1.110000e+18</td>\n",
              "      <td>https://twitter.com/SneakerShouts/status/11125...</td>\n",
              "    </tr>\n",
              "    <tr>\n",
              "      <th>1</th>\n",
              "      <td>4/1/19 0:00</td>\n",
              "      <td>Ebay_Birmingham</td>\n",
              "      <td>NaN</td>\n",
              "      <td>0</td>\n",
              "      <td>0</td>\n",
              "      <td>0</td>\n",
              "      <td>Check out #Nike Dry Fit Shorts Women's Tempo N...</td>\n",
              "      <td>@eBay</td>\n",
              "      <td>#Nike #Nike #ebay #poshmark #mercari</td>\n",
              "      <td>1.110000e+18</td>\n",
              "      <td>https://twitter.com/Ebay_Birmingham/status/111...</td>\n",
              "    </tr>\n",
              "    <tr>\n",
              "      <th>2</th>\n",
              "      <td>4/1/19 0:00</td>\n",
              "      <td>SneakerNews</td>\n",
              "      <td>NaN</td>\n",
              "      <td>2</td>\n",
              "      <td>15</td>\n",
              "      <td>102</td>\n",
              "      <td>The Nike Air Max 97 \"Seoul\" will release via N...</td>\n",
              "      <td>@EMPTY</td>\n",
              "      <td>NaN</td>\n",
              "      <td>1.110000e+18</td>\n",
              "      <td>https://twitter.com/SneakerNews/status/1112504...</td>\n",
              "    </tr>\n",
              "    <tr>\n",
              "      <th>3</th>\n",
              "      <td>4/1/19 0:00</td>\n",
              "      <td>titoloshop</td>\n",
              "      <td>NaN</td>\n",
              "      <td>0</td>\n",
              "      <td>0</td>\n",
              "      <td>0</td>\n",
              "      <td>Nike Air Vapormax Flyknit 3 - Atmosphere Grey/...</td>\n",
              "      <td>@EMPTY</td>\n",
              "      <td>NaN</td>\n",
              "      <td>1.110000e+18</td>\n",
              "      <td>https://twitter.com/titoloshop/status/11125048...</td>\n",
              "    </tr>\n",
              "    <tr>\n",
              "      <th>4</th>\n",
              "      <td>4/1/19 0:00</td>\n",
              "      <td>Taniabanks24</td>\n",
              "      <td>BornLiveDieFree</td>\n",
              "      <td>2</td>\n",
              "      <td>0</td>\n",
              "      <td>0</td>\n",
              "      <td>@MichaelAvenatti He ain‚Äôt dumb he is not sho...</td>\n",
              "      <td>@MichaelAvenatti</td>\n",
              "      <td>NaN</td>\n",
              "      <td>1.110000e+18</td>\n",
              "      <td>https://twitter.com/Taniabanks24/status/111250...</td>\n",
              "    </tr>\n",
              "  </tbody>\n",
              "</table>\n",
              "</div>\n",
              "      <button class=\"colab-df-convert\" onclick=\"convertToInteractive('df-020adcda-51eb-4e01-9080-2a58d7012c8c')\"\n",
              "              title=\"Convert this dataframe to an interactive table.\"\n",
              "              style=\"display:none;\">\n",
              "        \n",
              "  <svg xmlns=\"http://www.w3.org/2000/svg\" height=\"24px\"viewBox=\"0 0 24 24\"\n",
              "       width=\"24px\">\n",
              "    <path d=\"M0 0h24v24H0V0z\" fill=\"none\"/>\n",
              "    <path d=\"M18.56 5.44l.94 2.06.94-2.06 2.06-.94-2.06-.94-.94-2.06-.94 2.06-2.06.94zm-11 1L8.5 8.5l.94-2.06 2.06-.94-2.06-.94L8.5 2.5l-.94 2.06-2.06.94zm10 10l.94 2.06.94-2.06 2.06-.94-2.06-.94-.94-2.06-.94 2.06-2.06.94z\"/><path d=\"M17.41 7.96l-1.37-1.37c-.4-.4-.92-.59-1.43-.59-.52 0-1.04.2-1.43.59L10.3 9.45l-7.72 7.72c-.78.78-.78 2.05 0 2.83L4 21.41c.39.39.9.59 1.41.59.51 0 1.02-.2 1.41-.59l7.78-7.78 2.81-2.81c.8-.78.8-2.07 0-2.86zM5.41 20L4 18.59l7.72-7.72 1.47 1.35L5.41 20z\"/>\n",
              "  </svg>\n",
              "      </button>\n",
              "      \n",
              "  <style>\n",
              "    .colab-df-container {\n",
              "      display:flex;\n",
              "      flex-wrap:wrap;\n",
              "      gap: 12px;\n",
              "    }\n",
              "\n",
              "    .colab-df-convert {\n",
              "      background-color: #E8F0FE;\n",
              "      border: none;\n",
              "      border-radius: 50%;\n",
              "      cursor: pointer;\n",
              "      display: none;\n",
              "      fill: #1967D2;\n",
              "      height: 32px;\n",
              "      padding: 0 0 0 0;\n",
              "      width: 32px;\n",
              "    }\n",
              "\n",
              "    .colab-df-convert:hover {\n",
              "      background-color: #E2EBFA;\n",
              "      box-shadow: 0px 1px 2px rgba(60, 64, 67, 0.3), 0px 1px 3px 1px rgba(60, 64, 67, 0.15);\n",
              "      fill: #174EA6;\n",
              "    }\n",
              "\n",
              "    [theme=dark] .colab-df-convert {\n",
              "      background-color: #3B4455;\n",
              "      fill: #D2E3FC;\n",
              "    }\n",
              "\n",
              "    [theme=dark] .colab-df-convert:hover {\n",
              "      background-color: #434B5C;\n",
              "      box-shadow: 0px 1px 3px 1px rgba(0, 0, 0, 0.15);\n",
              "      filter: drop-shadow(0px 1px 2px rgba(0, 0, 0, 0.3));\n",
              "      fill: #FFFFFF;\n",
              "    }\n",
              "  </style>\n",
              "\n",
              "      <script>\n",
              "        const buttonEl =\n",
              "          document.querySelector('#df-020adcda-51eb-4e01-9080-2a58d7012c8c button.colab-df-convert');\n",
              "        buttonEl.style.display =\n",
              "          google.colab.kernel.accessAllowed ? 'block' : 'none';\n",
              "\n",
              "        async function convertToInteractive(key) {\n",
              "          const element = document.querySelector('#df-020adcda-51eb-4e01-9080-2a58d7012c8c');\n",
              "          const dataTable =\n",
              "            await google.colab.kernel.invokeFunction('convertToInteractive',\n",
              "                                                     [key], {});\n",
              "          if (!dataTable) return;\n",
              "\n",
              "          const docLinkHtml = 'Like what you see? Visit the ' +\n",
              "            '<a target=\"_blank\" href=https://colab.research.google.com/notebooks/data_table.ipynb>data table notebook</a>'\n",
              "            + ' to learn more about interactive tables.';\n",
              "          element.innerHTML = '';\n",
              "          dataTable['output_type'] = 'display_data';\n",
              "          await google.colab.output.renderOutput(dataTable, element);\n",
              "          const docLink = document.createElement('div');\n",
              "          docLink.innerHTML = docLinkHtml;\n",
              "          element.appendChild(docLink);\n",
              "        }\n",
              "      </script>\n",
              "    </div>\n",
              "  </div>\n",
              "  "
            ],
            "text/plain": [
              "          date  ...                                          permalink\n",
              "0  4/1/19 0:00  ...  https://twitter.com/SneakerShouts/status/11125...\n",
              "1  4/1/19 0:00  ...  https://twitter.com/Ebay_Birmingham/status/111...\n",
              "2  4/1/19 0:00  ...  https://twitter.com/SneakerNews/status/1112504...\n",
              "3  4/1/19 0:00  ...  https://twitter.com/titoloshop/status/11125048...\n",
              "4  4/1/19 0:00  ...  https://twitter.com/Taniabanks24/status/111250...\n",
              "\n",
              "[5 rows x 11 columns]"
            ]
          },
          "metadata": {},
          "execution_count": 19
        }
      ],
      "execution_count": null
    },
    {
      "cell_type": "code",
      "source": [
        "nike_df.info()"
      ],
      "metadata": {
        "application/vnd.databricks.v1+cell": {
          "title": "",
          "showTitle": false,
          "inputWidgets": {},
          "nuid": "d25eb000-e28c-47d8-b693-ddb6c871715c"
        },
        "id": "sBC0ofnNTcMJ",
        "outputId": "5bcde76d-165e-4e79-8275-1e2f1483d786",
        "colab": {
          "base_uri": "https://localhost:8080/"
        }
      },
      "outputs": [
        {
          "output_type": "stream",
          "name": "stdout",
          "text": [
            "<class 'pandas.core.frame.DataFrame'>\n",
            "RangeIndex: 4430893 entries, 0 to 4430892\n",
            "Data columns (total 11 columns):\n",
            " #   Column     Dtype  \n",
            "---  ------     -----  \n",
            " 0   date       object \n",
            " 1   username   object \n",
            " 2   to         object \n",
            " 3   replies    int64  \n",
            " 4   retweets   int64  \n",
            " 5   favorites  int64  \n",
            " 6   text       object \n",
            " 7   mentions   object \n",
            " 8   hashtags   object \n",
            " 9   id         float64\n",
            " 10  permalink  object \n",
            "dtypes: float64(1), int64(3), object(7)\n",
            "memory usage: 371.9+ MB\n"
          ]
        }
      ],
      "execution_count": null
    },
    {
      "cell_type": "code",
      "source": [
        "df = nike_df[['username','text','mentions','hashtags']]"
      ],
      "metadata": {
        "application/vnd.databricks.v1+cell": {
          "title": "",
          "showTitle": false,
          "inputWidgets": {},
          "nuid": "c619ff7a-bb60-4f7b-b377-739c1941a987"
        },
        "id": "8dmzzQPVTcMK"
      },
      "outputs": [],
      "execution_count": null
    },
    {
      "cell_type": "code",
      "source": [
        "df.head()"
      ],
      "metadata": {
        "application/vnd.databricks.v1+cell": {
          "title": "",
          "showTitle": false,
          "inputWidgets": {},
          "nuid": "66d944b6-bc34-400c-a0af-ce92c5308120"
        },
        "id": "917_eXZqTcMK",
        "outputId": "2bd35d45-f098-40ce-c753-3e9c9c1cec4a",
        "colab": {
          "base_uri": "https://localhost:8080/",
          "height": 206
        }
      },
      "outputs": [
        {
          "output_type": "execute_result",
          "data": {
            "text/html": [
              "\n",
              "  <div id=\"df-32e1d872-245c-42fd-a0da-0f1b971a35ba\">\n",
              "    <div class=\"colab-df-container\">\n",
              "      <div>\n",
              "<style scoped>\n",
              "    .dataframe tbody tr th:only-of-type {\n",
              "        vertical-align: middle;\n",
              "    }\n",
              "\n",
              "    .dataframe tbody tr th {\n",
              "        vertical-align: top;\n",
              "    }\n",
              "\n",
              "    .dataframe thead th {\n",
              "        text-align: right;\n",
              "    }\n",
              "</style>\n",
              "<table border=\"1\" class=\"dataframe\">\n",
              "  <thead>\n",
              "    <tr style=\"text-align: right;\">\n",
              "      <th></th>\n",
              "      <th>username</th>\n",
              "      <th>text</th>\n",
              "      <th>mentions</th>\n",
              "      <th>hashtags</th>\n",
              "    </tr>\n",
              "  </thead>\n",
              "  <tbody>\n",
              "    <tr>\n",
              "      <th>0</th>\n",
              "      <td>SneakerShouts</td>\n",
              "      <td>STEAL: Over 50% OFF + free shipping on the Nik...</td>\n",
              "      <td>@EMPTY</td>\n",
              "      <td>NaN</td>\n",
              "    </tr>\n",
              "    <tr>\n",
              "      <th>1</th>\n",
              "      <td>Ebay_Birmingham</td>\n",
              "      <td>Check out #Nike Dry Fit Shorts Women's Tempo N...</td>\n",
              "      <td>@eBay</td>\n",
              "      <td>#Nike #Nike #ebay #poshmark #mercari</td>\n",
              "    </tr>\n",
              "    <tr>\n",
              "      <th>2</th>\n",
              "      <td>SneakerNews</td>\n",
              "      <td>The Nike Air Max 97 \"Seoul\" will release via N...</td>\n",
              "      <td>@EMPTY</td>\n",
              "      <td>NaN</td>\n",
              "    </tr>\n",
              "    <tr>\n",
              "      <th>3</th>\n",
              "      <td>titoloshop</td>\n",
              "      <td>Nike Air Vapormax Flyknit 3 - Atmosphere Grey/...</td>\n",
              "      <td>@EMPTY</td>\n",
              "      <td>NaN</td>\n",
              "    </tr>\n",
              "    <tr>\n",
              "      <th>4</th>\n",
              "      <td>Taniabanks24</td>\n",
              "      <td>@MichaelAvenatti He ain‚Äôt dumb he is not sho...</td>\n",
              "      <td>@MichaelAvenatti</td>\n",
              "      <td>NaN</td>\n",
              "    </tr>\n",
              "  </tbody>\n",
              "</table>\n",
              "</div>\n",
              "      <button class=\"colab-df-convert\" onclick=\"convertToInteractive('df-32e1d872-245c-42fd-a0da-0f1b971a35ba')\"\n",
              "              title=\"Convert this dataframe to an interactive table.\"\n",
              "              style=\"display:none;\">\n",
              "        \n",
              "  <svg xmlns=\"http://www.w3.org/2000/svg\" height=\"24px\"viewBox=\"0 0 24 24\"\n",
              "       width=\"24px\">\n",
              "    <path d=\"M0 0h24v24H0V0z\" fill=\"none\"/>\n",
              "    <path d=\"M18.56 5.44l.94 2.06.94-2.06 2.06-.94-2.06-.94-.94-2.06-.94 2.06-2.06.94zm-11 1L8.5 8.5l.94-2.06 2.06-.94-2.06-.94L8.5 2.5l-.94 2.06-2.06.94zm10 10l.94 2.06.94-2.06 2.06-.94-2.06-.94-.94-2.06-.94 2.06-2.06.94z\"/><path d=\"M17.41 7.96l-1.37-1.37c-.4-.4-.92-.59-1.43-.59-.52 0-1.04.2-1.43.59L10.3 9.45l-7.72 7.72c-.78.78-.78 2.05 0 2.83L4 21.41c.39.39.9.59 1.41.59.51 0 1.02-.2 1.41-.59l7.78-7.78 2.81-2.81c.8-.78.8-2.07 0-2.86zM5.41 20L4 18.59l7.72-7.72 1.47 1.35L5.41 20z\"/>\n",
              "  </svg>\n",
              "      </button>\n",
              "      \n",
              "  <style>\n",
              "    .colab-df-container {\n",
              "      display:flex;\n",
              "      flex-wrap:wrap;\n",
              "      gap: 12px;\n",
              "    }\n",
              "\n",
              "    .colab-df-convert {\n",
              "      background-color: #E8F0FE;\n",
              "      border: none;\n",
              "      border-radius: 50%;\n",
              "      cursor: pointer;\n",
              "      display: none;\n",
              "      fill: #1967D2;\n",
              "      height: 32px;\n",
              "      padding: 0 0 0 0;\n",
              "      width: 32px;\n",
              "    }\n",
              "\n",
              "    .colab-df-convert:hover {\n",
              "      background-color: #E2EBFA;\n",
              "      box-shadow: 0px 1px 2px rgba(60, 64, 67, 0.3), 0px 1px 3px 1px rgba(60, 64, 67, 0.15);\n",
              "      fill: #174EA6;\n",
              "    }\n",
              "\n",
              "    [theme=dark] .colab-df-convert {\n",
              "      background-color: #3B4455;\n",
              "      fill: #D2E3FC;\n",
              "    }\n",
              "\n",
              "    [theme=dark] .colab-df-convert:hover {\n",
              "      background-color: #434B5C;\n",
              "      box-shadow: 0px 1px 3px 1px rgba(0, 0, 0, 0.15);\n",
              "      filter: drop-shadow(0px 1px 2px rgba(0, 0, 0, 0.3));\n",
              "      fill: #FFFFFF;\n",
              "    }\n",
              "  </style>\n",
              "\n",
              "      <script>\n",
              "        const buttonEl =\n",
              "          document.querySelector('#df-32e1d872-245c-42fd-a0da-0f1b971a35ba button.colab-df-convert');\n",
              "        buttonEl.style.display =\n",
              "          google.colab.kernel.accessAllowed ? 'block' : 'none';\n",
              "\n",
              "        async function convertToInteractive(key) {\n",
              "          const element = document.querySelector('#df-32e1d872-245c-42fd-a0da-0f1b971a35ba');\n",
              "          const dataTable =\n",
              "            await google.colab.kernel.invokeFunction('convertToInteractive',\n",
              "                                                     [key], {});\n",
              "          if (!dataTable) return;\n",
              "\n",
              "          const docLinkHtml = 'Like what you see? Visit the ' +\n",
              "            '<a target=\"_blank\" href=https://colab.research.google.com/notebooks/data_table.ipynb>data table notebook</a>'\n",
              "            + ' to learn more about interactive tables.';\n",
              "          element.innerHTML = '';\n",
              "          dataTable['output_type'] = 'display_data';\n",
              "          await google.colab.output.renderOutput(dataTable, element);\n",
              "          const docLink = document.createElement('div');\n",
              "          docLink.innerHTML = docLinkHtml;\n",
              "          element.appendChild(docLink);\n",
              "        }\n",
              "      </script>\n",
              "    </div>\n",
              "  </div>\n",
              "  "
            ],
            "text/plain": [
              "          username  ...                              hashtags\n",
              "0    SneakerShouts  ...                                   NaN\n",
              "1  Ebay_Birmingham  ...  #Nike #Nike #ebay #poshmark #mercari\n",
              "2      SneakerNews  ...                                   NaN\n",
              "3       titoloshop  ...                                   NaN\n",
              "4     Taniabanks24  ...                                   NaN\n",
              "\n",
              "[5 rows x 4 columns]"
            ]
          },
          "metadata": {},
          "execution_count": 22
        }
      ],
      "execution_count": null
    },
    {
      "cell_type": "code",
      "source": [
        "nike_df.isnull().sum()"
      ],
      "metadata": {
        "colab": {
          "base_uri": "https://localhost:8080/"
        },
        "id": "YzWQLJO3_bBy",
        "outputId": "ed68d67d-ec6c-4cd7-8781-f45ee19f10da"
      },
      "execution_count": null,
      "outputs": [
        {
          "output_type": "execute_result",
          "data": {
            "text/plain": [
              "date               0\n",
              "username           1\n",
              "to           2984178\n",
              "replies            0\n",
              "retweets           0\n",
              "favorites          0\n",
              "text               0\n",
              "mentions           0\n",
              "hashtags     3299590\n",
              "id                 0\n",
              "permalink          0\n",
              "dtype: int64"
            ]
          },
          "metadata": {},
          "execution_count": 32
        }
      ]
    },
    {
      "cell_type": "code",
      "source": [
        "#drop redundant columns\n",
        "nike_df.drop(['to', 'hashtags'], axis=1, inplace=True)"
      ],
      "metadata": {
        "id": "3Iq6DHFX_eiz"
      },
      "execution_count": null,
      "outputs": []
    },
    {
      "cell_type": "code",
      "source": [
        "nike_df.info()"
      ],
      "metadata": {
        "colab": {
          "base_uri": "https://localhost:8080/"
        },
        "id": "fmso9hju_rrs",
        "outputId": "aed5d563-b07a-48da-a785-82cfc8ef4d73"
      },
      "execution_count": null,
      "outputs": [
        {
          "output_type": "stream",
          "name": "stdout",
          "text": [
            "<class 'pandas.core.frame.DataFrame'>\n",
            "RangeIndex: 4430893 entries, 0 to 4430892\n",
            "Data columns (total 9 columns):\n",
            " #   Column     Dtype  \n",
            "---  ------     -----  \n",
            " 0   date       object \n",
            " 1   username   object \n",
            " 2   replies    int64  \n",
            " 3   retweets   int64  \n",
            " 4   favorites  int64  \n",
            " 5   text       object \n",
            " 6   mentions   object \n",
            " 7   id         float64\n",
            " 8   permalink  object \n",
            "dtypes: float64(1), int64(3), object(5)\n",
            "memory usage: 304.2+ MB\n"
          ]
        }
      ]
    },
    {
      "cell_type": "code",
      "source": [
        "nike_df.describe()"
      ],
      "metadata": {
        "colab": {
          "base_uri": "https://localhost:8080/",
          "height": 300
        },
        "id": "vzoFntK7_0EP",
        "outputId": "74ee0e83-30a6-488d-8f0f-221224c77f54"
      },
      "execution_count": null,
      "outputs": [
        {
          "output_type": "execute_result",
          "data": {
            "text/html": [
              "\n",
              "  <div id=\"df-ba3732ba-6371-4187-81e5-b1f07f444d2e\">\n",
              "    <div class=\"colab-df-container\">\n",
              "      <div>\n",
              "<style scoped>\n",
              "    .dataframe tbody tr th:only-of-type {\n",
              "        vertical-align: middle;\n",
              "    }\n",
              "\n",
              "    .dataframe tbody tr th {\n",
              "        vertical-align: top;\n",
              "    }\n",
              "\n",
              "    .dataframe thead th {\n",
              "        text-align: right;\n",
              "    }\n",
              "</style>\n",
              "<table border=\"1\" class=\"dataframe\">\n",
              "  <thead>\n",
              "    <tr style=\"text-align: right;\">\n",
              "      <th></th>\n",
              "      <th>replies</th>\n",
              "      <th>retweets</th>\n",
              "      <th>favorites</th>\n",
              "      <th>id</th>\n",
              "    </tr>\n",
              "  </thead>\n",
              "  <tbody>\n",
              "    <tr>\n",
              "      <th>count</th>\n",
              "      <td>4.430893e+06</td>\n",
              "      <td>4.430893e+06</td>\n",
              "      <td>4.430893e+06</td>\n",
              "      <td>4.430893e+06</td>\n",
              "    </tr>\n",
              "    <tr>\n",
              "      <th>mean</th>\n",
              "      <td>5.198083e-01</td>\n",
              "      <td>1.966998e+00</td>\n",
              "      <td>8.718415e+00</td>\n",
              "      <td>1.122972e+18</td>\n",
              "    </tr>\n",
              "    <tr>\n",
              "      <th>std</th>\n",
              "      <td>2.759071e+01</td>\n",
              "      <td>1.521752e+02</td>\n",
              "      <td>4.682563e+02</td>\n",
              "      <td>4.046198e+16</td>\n",
              "    </tr>\n",
              "    <tr>\n",
              "      <th>min</th>\n",
              "      <td>0.000000e+00</td>\n",
              "      <td>0.000000e+00</td>\n",
              "      <td>0.000000e+00</td>\n",
              "      <td>1.046550e+18</td>\n",
              "    </tr>\n",
              "    <tr>\n",
              "      <th>25%</th>\n",
              "      <td>0.000000e+00</td>\n",
              "      <td>0.000000e+00</td>\n",
              "      <td>0.000000e+00</td>\n",
              "      <td>1.090000e+18</td>\n",
              "    </tr>\n",
              "    <tr>\n",
              "      <th>50%</th>\n",
              "      <td>0.000000e+00</td>\n",
              "      <td>0.000000e+00</td>\n",
              "      <td>0.000000e+00</td>\n",
              "      <td>1.130000e+18</td>\n",
              "    </tr>\n",
              "    <tr>\n",
              "      <th>75%</th>\n",
              "      <td>0.000000e+00</td>\n",
              "      <td>0.000000e+00</td>\n",
              "      <td>1.000000e+00</td>\n",
              "      <td>1.150000e+18</td>\n",
              "    </tr>\n",
              "    <tr>\n",
              "      <th>max</th>\n",
              "      <td>3.018600e+04</td>\n",
              "      <td>1.923170e+05</td>\n",
              "      <td>4.482950e+05</td>\n",
              "      <td>1.190000e+18</td>\n",
              "    </tr>\n",
              "  </tbody>\n",
              "</table>\n",
              "</div>\n",
              "      <button class=\"colab-df-convert\" onclick=\"convertToInteractive('df-ba3732ba-6371-4187-81e5-b1f07f444d2e')\"\n",
              "              title=\"Convert this dataframe to an interactive table.\"\n",
              "              style=\"display:none;\">\n",
              "        \n",
              "  <svg xmlns=\"http://www.w3.org/2000/svg\" height=\"24px\"viewBox=\"0 0 24 24\"\n",
              "       width=\"24px\">\n",
              "    <path d=\"M0 0h24v24H0V0z\" fill=\"none\"/>\n",
              "    <path d=\"M18.56 5.44l.94 2.06.94-2.06 2.06-.94-2.06-.94-.94-2.06-.94 2.06-2.06.94zm-11 1L8.5 8.5l.94-2.06 2.06-.94-2.06-.94L8.5 2.5l-.94 2.06-2.06.94zm10 10l.94 2.06.94-2.06 2.06-.94-2.06-.94-.94-2.06-.94 2.06-2.06.94z\"/><path d=\"M17.41 7.96l-1.37-1.37c-.4-.4-.92-.59-1.43-.59-.52 0-1.04.2-1.43.59L10.3 9.45l-7.72 7.72c-.78.78-.78 2.05 0 2.83L4 21.41c.39.39.9.59 1.41.59.51 0 1.02-.2 1.41-.59l7.78-7.78 2.81-2.81c.8-.78.8-2.07 0-2.86zM5.41 20L4 18.59l7.72-7.72 1.47 1.35L5.41 20z\"/>\n",
              "  </svg>\n",
              "      </button>\n",
              "      \n",
              "  <style>\n",
              "    .colab-df-container {\n",
              "      display:flex;\n",
              "      flex-wrap:wrap;\n",
              "      gap: 12px;\n",
              "    }\n",
              "\n",
              "    .colab-df-convert {\n",
              "      background-color: #E8F0FE;\n",
              "      border: none;\n",
              "      border-radius: 50%;\n",
              "      cursor: pointer;\n",
              "      display: none;\n",
              "      fill: #1967D2;\n",
              "      height: 32px;\n",
              "      padding: 0 0 0 0;\n",
              "      width: 32px;\n",
              "    }\n",
              "\n",
              "    .colab-df-convert:hover {\n",
              "      background-color: #E2EBFA;\n",
              "      box-shadow: 0px 1px 2px rgba(60, 64, 67, 0.3), 0px 1px 3px 1px rgba(60, 64, 67, 0.15);\n",
              "      fill: #174EA6;\n",
              "    }\n",
              "\n",
              "    [theme=dark] .colab-df-convert {\n",
              "      background-color: #3B4455;\n",
              "      fill: #D2E3FC;\n",
              "    }\n",
              "\n",
              "    [theme=dark] .colab-df-convert:hover {\n",
              "      background-color: #434B5C;\n",
              "      box-shadow: 0px 1px 3px 1px rgba(0, 0, 0, 0.15);\n",
              "      filter: drop-shadow(0px 1px 2px rgba(0, 0, 0, 0.3));\n",
              "      fill: #FFFFFF;\n",
              "    }\n",
              "  </style>\n",
              "\n",
              "      <script>\n",
              "        const buttonEl =\n",
              "          document.querySelector('#df-ba3732ba-6371-4187-81e5-b1f07f444d2e button.colab-df-convert');\n",
              "        buttonEl.style.display =\n",
              "          google.colab.kernel.accessAllowed ? 'block' : 'none';\n",
              "\n",
              "        async function convertToInteractive(key) {\n",
              "          const element = document.querySelector('#df-ba3732ba-6371-4187-81e5-b1f07f444d2e');\n",
              "          const dataTable =\n",
              "            await google.colab.kernel.invokeFunction('convertToInteractive',\n",
              "                                                     [key], {});\n",
              "          if (!dataTable) return;\n",
              "\n",
              "          const docLinkHtml = 'Like what you see? Visit the ' +\n",
              "            '<a target=\"_blank\" href=https://colab.research.google.com/notebooks/data_table.ipynb>data table notebook</a>'\n",
              "            + ' to learn more about interactive tables.';\n",
              "          element.innerHTML = '';\n",
              "          dataTable['output_type'] = 'display_data';\n",
              "          await google.colab.output.renderOutput(dataTable, element);\n",
              "          const docLink = document.createElement('div');\n",
              "          docLink.innerHTML = docLinkHtml;\n",
              "          element.appendChild(docLink);\n",
              "        }\n",
              "      </script>\n",
              "    </div>\n",
              "  </div>\n",
              "  "
            ],
            "text/plain": [
              "            replies      retweets     favorites            id\n",
              "count  4.430893e+06  4.430893e+06  4.430893e+06  4.430893e+06\n",
              "mean   5.198083e-01  1.966998e+00  8.718415e+00  1.122972e+18\n",
              "std    2.759071e+01  1.521752e+02  4.682563e+02  4.046198e+16\n",
              "min    0.000000e+00  0.000000e+00  0.000000e+00  1.046550e+18\n",
              "25%    0.000000e+00  0.000000e+00  0.000000e+00  1.090000e+18\n",
              "50%    0.000000e+00  0.000000e+00  0.000000e+00  1.130000e+18\n",
              "75%    0.000000e+00  0.000000e+00  1.000000e+00  1.150000e+18\n",
              "max    3.018600e+04  1.923170e+05  4.482950e+05  1.190000e+18"
            ]
          },
          "metadata": {},
          "execution_count": 35
        }
      ]
    },
    {
      "cell_type": "code",
      "source": [
        "df['text'].unique()"
      ],
      "metadata": {
        "colab": {
          "base_uri": "https://localhost:8080/"
        },
        "id": "ft-uHZ1q_z_C",
        "outputId": "46537c68-614e-40c5-a184-92b31db5c2ea"
      },
      "execution_count": null,
      "outputs": [
        {
          "output_type": "execute_result",
          "data": {
            "text/plain": [
              "array(['STEAL: Over 50% OFF + free shipping on the Nike Air Huarache OG \"Persian Violet\" BUY HERE: http://bit.ly/2wsRZdW pic.twitter.com/f9nIazjbmT',\n",
              "       \"Check out #Nike Dry Fit Shorts Women's Tempo Neon Pink Yellow Lined Swoosh Active Sz M #Nike https://ebay.us/WY8wrA via @eBay #ebay #poshmark #mercari\",\n",
              "       'The Nike Air Max 97 \"Seoul\" will release via Nike SNKRS on April 13th https://snkrne.ws/2uw3i3E pic.twitter.com/MPcKBT63lz',\n",
              "       ...,\n",
              "       'NFLShop - The Official Online Shop of the NFL | 2019 NFL Nike Gear, NFL Apparel & NFL Merchandise http://wild.link/nflshop/AK3QCw',\n",
              "       'New Uniforms are in! Thanks @Nike @ToBrad1 we will be playing in the @reale1t1 Invitational this weekend!pic.twitter.com/QpzmC0G67P',\n",
              "       \"There's obviously a good chance that I'm going to sign a gazillion dollar contract with Nike as soon as I get a pen in my hand. https://twitter.com/AdamZagoria/status/1112503688055218177 ‚Ä¶\"],\n",
              "      dtype=object)"
            ]
          },
          "metadata": {},
          "execution_count": 36
        }
      ]
    },
    {
      "cell_type": "code",
      "source": [
        "len(nike_df['text'].unique())"
      ],
      "metadata": {
        "colab": {
          "base_uri": "https://localhost:8080/"
        },
        "id": "3Dde7qreAH9I",
        "outputId": "8067cac5-1eb6-4b1f-8b9e-078eccb174ed"
      },
      "execution_count": null,
      "outputs": [
        {
          "output_type": "execute_result",
          "data": {
            "text/plain": [
              "4025865"
            ]
          },
          "metadata": {},
          "execution_count": 38
        }
      ]
    },
    {
      "cell_type": "code",
      "source": [
        "df['mentions'].unique()"
      ],
      "metadata": {
        "colab": {
          "base_uri": "https://localhost:8080/"
        },
        "id": "Rjd8k46E_z3H",
        "outputId": "c2600d43-8409-4c17-d227-f0caa12f7ee6"
      },
      "execution_count": null,
      "outputs": [
        {
          "output_type": "execute_result",
          "data": {
            "text/plain": [
              "array(['@EMPTY', '@eBay', '@MichaelAvenatti', ...,\n",
              "       '@ZO2_ @Lakers @Nike @MagicJohnson', '@nike @tlgstuff',\n",
              "       '@Nike @ToBrad1 @reale1t1'], dtype=object)"
            ]
          },
          "metadata": {},
          "execution_count": 39
        }
      ]
    },
    {
      "cell_type": "code",
      "source": [
        "len(nike_df['mentions'].unique())"
      ],
      "metadata": {
        "colab": {
          "base_uri": "https://localhost:8080/"
        },
        "id": "AL917ZreAdn0",
        "outputId": "2227f5c2-4d0a-4238-ea94-6cdcd8df4a80"
      },
      "execution_count": null,
      "outputs": [
        {
          "output_type": "execute_result",
          "data": {
            "text/plain": [
              "210712"
            ]
          },
          "metadata": {},
          "execution_count": 40
        }
      ]
    },
    {
      "cell_type": "code",
      "source": [
        "#Modelling Kmeans"
      ],
      "metadata": {
        "application/vnd.databricks.v1+cell": {
          "title": "",
          "showTitle": false,
          "inputWidgets": {},
          "nuid": "319e64f9-f4b0-428c-92af-b778627d1abb"
        },
        "id": "WTRGRwRVTcMK"
      },
      "outputs": [],
      "execution_count": null
    },
    {
      "cell_type": "code",
      "source": [
        "X = nike_df\n",
        "y =  nike_df['text']"
      ],
      "metadata": {
        "id": "h4dwe3Uu-Evn"
      },
      "execution_count": null,
      "outputs": []
    },
    {
      "cell_type": "code",
      "source": [
        "from sklearn.preprocessing import LabelEncoder\n",
        "\n",
        "le = LabelEncoder()\n",
        "\n",
        "X[''] = le.fit_transform(X['text'])\n",
        "\n",
        "y = le.transform(y)"
      ],
      "metadata": {
        "application/vnd.databricks.v1+cell": {
          "title": "",
          "showTitle": false,
          "inputWidgets": {},
          "nuid": "3d0b1879-4342-4dcb-9b03-0e3cb2388589"
        },
        "id": "XH1QisRuTcMM"
      },
      "outputs": [],
      "execution_count": null
    },
    {
      "cell_type": "code",
      "source": [
        "[[1.8548635531406916,3.4263211514376684,2.3388469034105257,1.7377334665793225,3.576042825398918,1.0266078608494207,1.5847334870686396,2.4250641969813755,3.851605480514457,0.6604404580880586,4.583204153385793,3.717044205279833,3.0257883902962495,4.692022239879393,3.112807801705332,5.438689755800993,5.524148861279697,4.912719434612777,0.18262619183558798],\n",
        " [1.8548635531406916,3.4263211514376684,2.3388469034105257,1.7377334665793225,3.576042825398918,1.0266078608494207,1.5847334870686396,2.4250641969813755,3.851605480514457,0.6604404580880586,4.583204153385793,3.717044205279833,3.0257883902962495,4.692022239879393,3.112807801705332,5.438689755800993,5.524148861279697,4.912719434612777,0.18262619183558798],\n",
        " [1.8548635531406916,3.4263211514376684,2.3388469034105257,1.7377334665793225,3.576042825398918,1.0266078608494207,1.5847334870686396,2.4250641969813755,3.851605480514457,0.6604404580880586,4.583204153385793,3.717044205279833,3.0257883902962495,4.692022239879393,3.112807801705332,5.438689755800993,5.524148861279697,4.912719434612777,0.18262619183558798]]"
      ],
      "metadata": {
        "id": "x82iz7A3fBHf"
      },
      "execution_count": null,
      "outputs": []
    },
    {
      "cell_type": "code",
      "source": [
        "X.info()"
      ],
      "metadata": {
        "colab": {
          "base_uri": "https://localhost:8080/"
        },
        "id": "JyJ2j_zvA9MT",
        "outputId": "6d1c1804-ce46-432a-ecfa-135bb772d6d7"
      },
      "execution_count": null,
      "outputs": [
        {
          "output_type": "stream",
          "name": "stdout",
          "text": [
            "<class 'pandas.core.frame.DataFrame'>\n",
            "RangeIndex: 4430893 entries, 0 to 4430892\n",
            "Data columns (total 9 columns):\n",
            " #   Column     Dtype  \n",
            "---  ------     -----  \n",
            " 0   date       object \n",
            " 1   username   object \n",
            " 2   replies    int64  \n",
            " 3   retweets   int64  \n",
            " 4   favorites  int64  \n",
            " 5   text       int64  \n",
            " 6   mentions   object \n",
            " 7   id         float64\n",
            " 8   permalink  object \n",
            "dtypes: float64(1), int64(4), object(4)\n",
            "memory usage: 304.2+ MB\n"
          ]
        }
      ]
    },
    {
      "cell_type": "code",
      "source": [
        "X.head()"
      ],
      "metadata": {
        "colab": {
          "base_uri": "https://localhost:8080/",
          "height": 206
        },
        "id": "2dvBELkSBCAA",
        "outputId": "a147534c-d0e3-4716-f46d-f2ac2cd0b406"
      },
      "execution_count": null,
      "outputs": [
        {
          "output_type": "execute_result",
          "data": {
            "text/html": [
              "\n",
              "  <div id=\"df-3d74eaff-9343-428a-b6c2-207863cf63f0\">\n",
              "    <div class=\"colab-df-container\">\n",
              "      <div>\n",
              "<style scoped>\n",
              "    .dataframe tbody tr th:only-of-type {\n",
              "        vertical-align: middle;\n",
              "    }\n",
              "\n",
              "    .dataframe tbody tr th {\n",
              "        vertical-align: top;\n",
              "    }\n",
              "\n",
              "    .dataframe thead th {\n",
              "        text-align: right;\n",
              "    }\n",
              "</style>\n",
              "<table border=\"1\" class=\"dataframe\">\n",
              "  <thead>\n",
              "    <tr style=\"text-align: right;\">\n",
              "      <th></th>\n",
              "      <th>date</th>\n",
              "      <th>username</th>\n",
              "      <th>replies</th>\n",
              "      <th>retweets</th>\n",
              "      <th>favorites</th>\n",
              "      <th>text</th>\n",
              "      <th>mentions</th>\n",
              "      <th>id</th>\n",
              "      <th>permalink</th>\n",
              "    </tr>\n",
              "  </thead>\n",
              "  <tbody>\n",
              "    <tr>\n",
              "      <th>0</th>\n",
              "      <td>4/1/19 0:00</td>\n",
              "      <td>SneakerShouts</td>\n",
              "      <td>0</td>\n",
              "      <td>2</td>\n",
              "      <td>24</td>\n",
              "      <td>2879634</td>\n",
              "      <td>@EMPTY</td>\n",
              "      <td>1.110000e+18</td>\n",
              "      <td>https://twitter.com/SneakerShouts/status/11125...</td>\n",
              "    </tr>\n",
              "    <tr>\n",
              "      <th>1</th>\n",
              "      <td>4/1/19 0:00</td>\n",
              "      <td>Ebay_Birmingham</td>\n",
              "      <td>0</td>\n",
              "      <td>0</td>\n",
              "      <td>0</td>\n",
              "      <td>638449</td>\n",
              "      <td>@eBay</td>\n",
              "      <td>1.110000e+18</td>\n",
              "      <td>https://twitter.com/Ebay_Birmingham/status/111...</td>\n",
              "    </tr>\n",
              "    <tr>\n",
              "      <th>2</th>\n",
              "      <td>4/1/19 0:00</td>\n",
              "      <td>SneakerNews</td>\n",
              "      <td>2</td>\n",
              "      <td>15</td>\n",
              "      <td>102</td>\n",
              "      <td>3255037</td>\n",
              "      <td>@EMPTY</td>\n",
              "      <td>1.110000e+18</td>\n",
              "      <td>https://twitter.com/SneakerNews/status/1112504...</td>\n",
              "    </tr>\n",
              "    <tr>\n",
              "      <th>3</th>\n",
              "      <td>4/1/19 0:00</td>\n",
              "      <td>titoloshop</td>\n",
              "      <td>0</td>\n",
              "      <td>0</td>\n",
              "      <td>0</td>\n",
              "      <td>2185184</td>\n",
              "      <td>@EMPTY</td>\n",
              "      <td>1.110000e+18</td>\n",
              "      <td>https://twitter.com/titoloshop/status/11125048...</td>\n",
              "    </tr>\n",
              "    <tr>\n",
              "      <th>4</th>\n",
              "      <td>4/1/19 0:00</td>\n",
              "      <td>Taniabanks24</td>\n",
              "      <td>2</td>\n",
              "      <td>0</td>\n",
              "      <td>0</td>\n",
              "      <td>225496</td>\n",
              "      <td>@MichaelAvenatti</td>\n",
              "      <td>1.110000e+18</td>\n",
              "      <td>https://twitter.com/Taniabanks24/status/111250...</td>\n",
              "    </tr>\n",
              "  </tbody>\n",
              "</table>\n",
              "</div>\n",
              "      <button class=\"colab-df-convert\" onclick=\"convertToInteractive('df-3d74eaff-9343-428a-b6c2-207863cf63f0')\"\n",
              "              title=\"Convert this dataframe to an interactive table.\"\n",
              "              style=\"display:none;\">\n",
              "        \n",
              "  <svg xmlns=\"http://www.w3.org/2000/svg\" height=\"24px\"viewBox=\"0 0 24 24\"\n",
              "       width=\"24px\">\n",
              "    <path d=\"M0 0h24v24H0V0z\" fill=\"none\"/>\n",
              "    <path d=\"M18.56 5.44l.94 2.06.94-2.06 2.06-.94-2.06-.94-.94-2.06-.94 2.06-2.06.94zm-11 1L8.5 8.5l.94-2.06 2.06-.94-2.06-.94L8.5 2.5l-.94 2.06-2.06.94zm10 10l.94 2.06.94-2.06 2.06-.94-2.06-.94-.94-2.06-.94 2.06-2.06.94z\"/><path d=\"M17.41 7.96l-1.37-1.37c-.4-.4-.92-.59-1.43-.59-.52 0-1.04.2-1.43.59L10.3 9.45l-7.72 7.72c-.78.78-.78 2.05 0 2.83L4 21.41c.39.39.9.59 1.41.59.51 0 1.02-.2 1.41-.59l7.78-7.78 2.81-2.81c.8-.78.8-2.07 0-2.86zM5.41 20L4 18.59l7.72-7.72 1.47 1.35L5.41 20z\"/>\n",
              "  </svg>\n",
              "      </button>\n",
              "      \n",
              "  <style>\n",
              "    .colab-df-container {\n",
              "      display:flex;\n",
              "      flex-wrap:wrap;\n",
              "      gap: 12px;\n",
              "    }\n",
              "\n",
              "    .colab-df-convert {\n",
              "      background-color: #E8F0FE;\n",
              "      border: none;\n",
              "      border-radius: 50%;\n",
              "      cursor: pointer;\n",
              "      display: none;\n",
              "      fill: #1967D2;\n",
              "      height: 32px;\n",
              "      padding: 0 0 0 0;\n",
              "      width: 32px;\n",
              "    }\n",
              "\n",
              "    .colab-df-convert:hover {\n",
              "      background-color: #E2EBFA;\n",
              "      box-shadow: 0px 1px 2px rgba(60, 64, 67, 0.3), 0px 1px 3px 1px rgba(60, 64, 67, 0.15);\n",
              "      fill: #174EA6;\n",
              "    }\n",
              "\n",
              "    [theme=dark] .colab-df-convert {\n",
              "      background-color: #3B4455;\n",
              "      fill: #D2E3FC;\n",
              "    }\n",
              "\n",
              "    [theme=dark] .colab-df-convert:hover {\n",
              "      background-color: #434B5C;\n",
              "      box-shadow: 0px 1px 3px 1px rgba(0, 0, 0, 0.15);\n",
              "      filter: drop-shadow(0px 1px 2px rgba(0, 0, 0, 0.3));\n",
              "      fill: #FFFFFF;\n",
              "    }\n",
              "  </style>\n",
              "\n",
              "      <script>\n",
              "        const buttonEl =\n",
              "          document.querySelector('#df-3d74eaff-9343-428a-b6c2-207863cf63f0 button.colab-df-convert');\n",
              "        buttonEl.style.display =\n",
              "          google.colab.kernel.accessAllowed ? 'block' : 'none';\n",
              "\n",
              "        async function convertToInteractive(key) {\n",
              "          const element = document.querySelector('#df-3d74eaff-9343-428a-b6c2-207863cf63f0');\n",
              "          const dataTable =\n",
              "            await google.colab.kernel.invokeFunction('convertToInteractive',\n",
              "                                                     [key], {});\n",
              "          if (!dataTable) return;\n",
              "\n",
              "          const docLinkHtml = 'Like what you see? Visit the ' +\n",
              "            '<a target=\"_blank\" href=https://colab.research.google.com/notebooks/data_table.ipynb>data table notebook</a>'\n",
              "            + ' to learn more about interactive tables.';\n",
              "          element.innerHTML = '';\n",
              "          dataTable['output_type'] = 'display_data';\n",
              "          await google.colab.output.renderOutput(dataTable, element);\n",
              "          const docLink = document.createElement('div');\n",
              "          docLink.innerHTML = docLinkHtml;\n",
              "          element.appendChild(docLink);\n",
              "        }\n",
              "      </script>\n",
              "    </div>\n",
              "  </div>\n",
              "  "
            ],
            "text/plain": [
              "          date  ...                                          permalink\n",
              "0  4/1/19 0:00  ...  https://twitter.com/SneakerShouts/status/11125...\n",
              "1  4/1/19 0:00  ...  https://twitter.com/Ebay_Birmingham/status/111...\n",
              "2  4/1/19 0:00  ...  https://twitter.com/SneakerNews/status/1112504...\n",
              "3  4/1/19 0:00  ...  https://twitter.com/titoloshop/status/11125048...\n",
              "4  4/1/19 0:00  ...  https://twitter.com/Taniabanks24/status/111250...\n",
              "\n",
              "[5 rows x 9 columns]"
            ]
          },
          "metadata": {},
          "execution_count": 49
        }
      ]
    },
    {
      "cell_type": "code",
      "source": [
        "#feature Scaling\n",
        "cols = X.columns"
      ],
      "metadata": {
        "id": "9v5nbRJ9BDTx"
      },
      "execution_count": null,
      "outputs": []
    },
    {
      "cell_type": "code",
      "source": [
        "from sklearn.preprocessing import MinMaxScaler\n",
        "\n",
        "ms = MinMaxScaler()\n",
        "\n",
        "X = ms.fit_transform(X)"
      ],
      "metadata": {
        "id": "5FP9So6OBKtf"
      },
      "execution_count": null,
      "outputs": []
    },
    {
      "cell_type": "code",
      "source": [
        "X = pd.DataFrame(X, columns=[cols])"
      ],
      "metadata": {
        "id": "e4DDRbeLBLgN"
      },
      "execution_count": null,
      "outputs": []
    },
    {
      "cell_type": "code",
      "source": [
        "X.head()"
      ],
      "metadata": {
        "id": "zazM7zWMBN1S"
      },
      "execution_count": null,
      "outputs": []
    },
    {
      "cell_type": "code",
      "source": [
        "from sklearn.cluster import KMeans\n",
        "\n",
        "kmeans = KMeans(n_clusters=2, random_state=0) \n",
        "\n",
        "kmeans.fit(X)"
      ],
      "metadata": {
        "id": "Pn_Kfpx8BS6d"
      },
      "execution_count": null,
      "outputs": []
    },
    {
      "cell_type": "code",
      "source": [
        "# kmeans model parameterstudy\n",
        "\n",
        "kmeans.cluster_centers_"
      ],
      "metadata": {
        "id": "fJVe3N_6BUdN"
      },
      "execution_count": null,
      "outputs": []
    },
    {
      "cell_type": "code",
      "source": [
        "kmeans.inertia_"
      ],
      "metadata": {
        "id": "tCfPRnjLBduv"
      },
      "execution_count": null,
      "outputs": []
    },
    {
      "cell_type": "code",
      "source": [
        "labels = kmeans.labels_\n",
        "\n",
        "# check how many of the samples were correctly labeled\n",
        "correct_labels = sum(y == labels)\n",
        "\n",
        "print(\"Result: %d out of %d samples were correctly labeled.\" % (correct_labels, y.size))"
      ],
      "metadata": {
        "id": "4Z4h8rkuBlLi"
      },
      "execution_count": null,
      "outputs": []
    },
    {
      "cell_type": "code",
      "source": [
        "print('Accuracy score: {0:0.2f}'. format(correct_labels/float(y.size)))"
      ],
      "metadata": {
        "id": "M69vz3SyBlzP"
      },
      "execution_count": null,
      "outputs": []
    },
    {
      "cell_type": "code",
      "source": [
        "from sklearn.cluster import KMeans\n",
        "cs = []\n",
        "for i in range(1, 11):\n",
        "    kmeans = KMeans(n_clusters = i, init = 'k-means++', max_iter = 300, n_init = 10, random_state = 0)\n",
        "    kmeans.fit(X)\n",
        "    cs.append(kmeans.inertia_)\n",
        "plt.plot(range(1, 11), cs)\n",
        "plt.title('The Elbow Method')\n",
        "plt.xlabel('Number of clusters')\n",
        "plt.ylabel('CS')\n",
        "plt.show()"
      ],
      "metadata": {
        "id": "iURKkB8PBpFK"
      },
      "execution_count": null,
      "outputs": []
    },
    {
      "cell_type": "code",
      "source": [
        "from sklearn.cluster import KMeans\n",
        "\n",
        "kmeans = KMeans(n_clusters=2,random_state=0)\n",
        "\n",
        "kmeans.fit(X)\n",
        "\n",
        "labels = kmeans.labels_\n",
        "\n",
        "\n",
        "# check how many of the samples were correctly labeled\n",
        "\n",
        "correct_labels = sum(y == labels)\n",
        "\n",
        "print(\"Result: %d out of %d samples were correctly labeled.\" % (correct_labels, y.size))\n",
        "\n",
        "print('Accuracy score: {0:0.2f}'. format(correct_labels/float(y.size)))"
      ],
      "metadata": {
        "id": "kS84_0nYBvcu"
      },
      "execution_count": null,
      "outputs": []
    },
    {
      "cell_type": "code",
      "source": [
        "#kmeans model with 3 clusters\n",
        "kmeans = KMeans(n_clusters=3, random_state=0)\n",
        "\n",
        "kmeans.fit(X)\n",
        "\n",
        "# check how many of the samples were correctly labeled\n",
        "labels = kmeans.labels_\n",
        "\n",
        "correct_labels = sum(y == labels)\n",
        "print(\"Result: %d out of %d samples were correctly labeled.\" % (correct_labels, y.size))\n",
        "print('Accuracy score: {0:0.2f}'. format(correct_labels/float(y.size)))"
      ],
      "metadata": {
        "id": "91nYanQvB8ph"
      },
      "execution_count": null,
      "outputs": []
    },
    {
      "cell_type": "code",
      "source": [
        "#kmeans model with 4 clusters\n",
        "\n",
        "kmeans = KMeans(n_clusters=4, random_state=0)\n",
        "\n",
        "kmeans.fit(X)\n",
        "\n",
        "# check how many of the samples were correctly labeled\n",
        "labels = kmeans.labels_\n",
        "\n",
        "correct_labels = sum(y == labels)\n",
        "print(\"Result: %d out of %d samples were correctly labeled.\" % (correct_labels, y.size))\n",
        "print('Accuracy score: {0:0.2f}'. format(correct_labels/float(y.size)))"
      ],
      "metadata": {
        "id": "G-2WJltaCAAN"
      },
      "execution_count": null,
      "outputs": []
    }
  ],
  "metadata": {
    "colab": {
      "name": "Model2- Kmeans Clustering.ipynb",
      "provenance": [],
      "collapsed_sections": []
    },
    "kernelspec": {
      "name": "python3",
      "display_name": "Python 3"
    },
    "language_info": {
      "name": "python"
    },
    "application/vnd.databricks.v1+notebook": {
      "notebookName": "Untitled1",
      "dashboards": [],
      "notebookMetadata": {
        "pythonIndentUnit": 4
      },
      "language": "python",
      "widgets": {},
      "notebookOrigID": 2030411804131151
    }
  },
  "nbformat": 4,
  "nbformat_minor": 0
}